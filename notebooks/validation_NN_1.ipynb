{
 "cells": [
  {
   "cell_type": "markdown",
   "id": "a4aa89d1-ad77-4365-8064-0c4a6cba2304",
   "metadata": {},
   "source": [
    "#### Importing packages"
   ]
  },
  {
   "cell_type": "code",
   "execution_count": 1,
   "id": "b93401cb-b9a1-4ff6-a944-c1007678fa04",
   "metadata": {},
   "outputs": [],
   "source": [
    "import pandas as pd\n",
    "import numpy as np\n",
    "import matplotlib.pyplot as plt\n",
    "import seaborn as sns\n",
    "\n",
    "import tensorflow as tf\n",
    "from tensorflow.keras import regularizers, Sequential, layers\n",
    "from sklearn.model_selection import train_test_split\n",
    "from sklearn.preprocessing import StandardScaler\n",
    "from tensorflow.keras.regularizers import l2\n",
    "from tensorflow.keras.models import load_model, save_model\n",
    "from sklearn.model_selection import StratifiedKFold\n",
    "from sklearn.metrics import accuracy_score\n",
    "from sklearn.model_selection import KFold\n",
    "from keras.wrappers.scikit_learn import KerasClassifier  # Import KerasClassifier\n",
    "from sklearn.model_selection import cross_validate\n",
    "from tensorflow.keras import datasets, layers, models\n",
    "from tensorflow.keras.callbacks import EarlyStopping\n",
    "from sklearn.model_selection import cross_validate"
   ]
  },
  {
   "cell_type": "markdown",
   "id": "4d2a7d60-a3be-48fd-821f-58358210c5f1",
   "metadata": {},
   "source": [
    "#### Upload dataset"
   ]
  },
  {
   "cell_type": "code",
   "execution_count": 2,
   "id": "7503fd9d-24da-4722-b2c4-ae1c6e481021",
   "metadata": {},
   "outputs": [
    {
     "data": {
      "text/html": [
       "<div>\n",
       "<style scoped>\n",
       "    .dataframe tbody tr th:only-of-type {\n",
       "        vertical-align: middle;\n",
       "    }\n",
       "\n",
       "    .dataframe tbody tr th {\n",
       "        vertical-align: top;\n",
       "    }\n",
       "\n",
       "    .dataframe thead th {\n",
       "        text-align: right;\n",
       "    }\n",
       "</style>\n",
       "<table border=\"1\" class=\"dataframe\">\n",
       "  <thead>\n",
       "    <tr style=\"text-align: right;\">\n",
       "      <th></th>\n",
       "      <th>having_IP_Address</th>\n",
       "      <th>URL_Length</th>\n",
       "      <th>Shortining_Service</th>\n",
       "      <th>having_At_Symbol</th>\n",
       "      <th>double_slash_redirecting</th>\n",
       "      <th>Prefix_Suffix</th>\n",
       "      <th>having_Sub_Domain</th>\n",
       "      <th>SSLfinal_State</th>\n",
       "      <th>Domain_registeration_length</th>\n",
       "      <th>Favicon</th>\n",
       "      <th>...</th>\n",
       "      <th>popUpWidnow</th>\n",
       "      <th>Iframe</th>\n",
       "      <th>age_of_domain</th>\n",
       "      <th>DNSRecord</th>\n",
       "      <th>web_traffic</th>\n",
       "      <th>Page_Rank</th>\n",
       "      <th>Google_Index</th>\n",
       "      <th>Links_pointing_to_page</th>\n",
       "      <th>Statistical_report</th>\n",
       "      <th>Result</th>\n",
       "    </tr>\n",
       "  </thead>\n",
       "  <tbody>\n",
       "    <tr>\n",
       "      <th>0</th>\n",
       "      <td>1</td>\n",
       "      <td>1</td>\n",
       "      <td>0</td>\n",
       "      <td>0</td>\n",
       "      <td>1</td>\n",
       "      <td>-1</td>\n",
       "      <td>-1</td>\n",
       "      <td>-1</td>\n",
       "      <td>0</td>\n",
       "      <td>0</td>\n",
       "      <td>...</td>\n",
       "      <td>0</td>\n",
       "      <td>0</td>\n",
       "      <td>-1</td>\n",
       "      <td>1</td>\n",
       "      <td>-1</td>\n",
       "      <td>-1</td>\n",
       "      <td>0</td>\n",
       "      <td>1</td>\n",
       "      <td>1</td>\n",
       "      <td>1</td>\n",
       "    </tr>\n",
       "    <tr>\n",
       "      <th>1</th>\n",
       "      <td>0</td>\n",
       "      <td>1</td>\n",
       "      <td>0</td>\n",
       "      <td>0</td>\n",
       "      <td>0</td>\n",
       "      <td>-1</td>\n",
       "      <td>0</td>\n",
       "      <td>1</td>\n",
       "      <td>0</td>\n",
       "      <td>0</td>\n",
       "      <td>...</td>\n",
       "      <td>0</td>\n",
       "      <td>0</td>\n",
       "      <td>-1</td>\n",
       "      <td>1</td>\n",
       "      <td>0</td>\n",
       "      <td>-1</td>\n",
       "      <td>0</td>\n",
       "      <td>1</td>\n",
       "      <td>0</td>\n",
       "      <td>1</td>\n",
       "    </tr>\n",
       "    <tr>\n",
       "      <th>2</th>\n",
       "      <td>0</td>\n",
       "      <td>0</td>\n",
       "      <td>0</td>\n",
       "      <td>0</td>\n",
       "      <td>0</td>\n",
       "      <td>-1</td>\n",
       "      <td>-1</td>\n",
       "      <td>-1</td>\n",
       "      <td>0</td>\n",
       "      <td>0</td>\n",
       "      <td>...</td>\n",
       "      <td>0</td>\n",
       "      <td>0</td>\n",
       "      <td>0</td>\n",
       "      <td>1</td>\n",
       "      <td>1</td>\n",
       "      <td>-1</td>\n",
       "      <td>0</td>\n",
       "      <td>0</td>\n",
       "      <td>1</td>\n",
       "      <td>1</td>\n",
       "    </tr>\n",
       "    <tr>\n",
       "      <th>3</th>\n",
       "      <td>0</td>\n",
       "      <td>0</td>\n",
       "      <td>0</td>\n",
       "      <td>0</td>\n",
       "      <td>0</td>\n",
       "      <td>-1</td>\n",
       "      <td>-1</td>\n",
       "      <td>-1</td>\n",
       "      <td>1</td>\n",
       "      <td>0</td>\n",
       "      <td>...</td>\n",
       "      <td>0</td>\n",
       "      <td>0</td>\n",
       "      <td>-1</td>\n",
       "      <td>1</td>\n",
       "      <td>1</td>\n",
       "      <td>-1</td>\n",
       "      <td>0</td>\n",
       "      <td>-1</td>\n",
       "      <td>0</td>\n",
       "      <td>1</td>\n",
       "    </tr>\n",
       "    <tr>\n",
       "      <th>4</th>\n",
       "      <td>0</td>\n",
       "      <td>0</td>\n",
       "      <td>1</td>\n",
       "      <td>0</td>\n",
       "      <td>0</td>\n",
       "      <td>-1</td>\n",
       "      <td>1</td>\n",
       "      <td>1</td>\n",
       "      <td>0</td>\n",
       "      <td>0</td>\n",
       "      <td>...</td>\n",
       "      <td>1</td>\n",
       "      <td>0</td>\n",
       "      <td>-1</td>\n",
       "      <td>1</td>\n",
       "      <td>0</td>\n",
       "      <td>-1</td>\n",
       "      <td>0</td>\n",
       "      <td>1</td>\n",
       "      <td>0</td>\n",
       "      <td>0</td>\n",
       "    </tr>\n",
       "  </tbody>\n",
       "</table>\n",
       "<p>5 rows × 31 columns</p>\n",
       "</div>"
      ],
      "text/plain": [
       "   having_IP_Address  URL_Length  Shortining_Service  having_At_Symbol  \\\n",
       "0                  1           1                   0                 0   \n",
       "1                  0           1                   0                 0   \n",
       "2                  0           0                   0                 0   \n",
       "3                  0           0                   0                 0   \n",
       "4                  0           0                   1                 0   \n",
       "\n",
       "   double_slash_redirecting  Prefix_Suffix  having_Sub_Domain  SSLfinal_State  \\\n",
       "0                         1             -1                 -1              -1   \n",
       "1                         0             -1                  0               1   \n",
       "2                         0             -1                 -1              -1   \n",
       "3                         0             -1                 -1              -1   \n",
       "4                         0             -1                  1               1   \n",
       "\n",
       "   Domain_registeration_length  Favicon  ...  popUpWidnow  Iframe  \\\n",
       "0                            0        0  ...            0       0   \n",
       "1                            0        0  ...            0       0   \n",
       "2                            0        0  ...            0       0   \n",
       "3                            1        0  ...            0       0   \n",
       "4                            0        0  ...            1       0   \n",
       "\n",
       "   age_of_domain  DNSRecord  web_traffic  Page_Rank  Google_Index  \\\n",
       "0             -1          1           -1         -1             0   \n",
       "1             -1          1            0         -1             0   \n",
       "2              0          1            1         -1             0   \n",
       "3             -1          1            1         -1             0   \n",
       "4             -1          1            0         -1             0   \n",
       "\n",
       "   Links_pointing_to_page  Statistical_report  Result  \n",
       "0                       1                   1       1  \n",
       "1                       1                   0       1  \n",
       "2                       0                   1       1  \n",
       "3                      -1                   0       1  \n",
       "4                       1                   0       0  \n",
       "\n",
       "[5 rows x 31 columns]"
      ]
     },
     "execution_count": 2,
     "metadata": {},
     "output_type": "execute_result"
    }
   ],
   "source": [
    "data = pd.read_csv('../raw_data/validation_dataset_1.csv')\n",
    "data.head()"
   ]
  },
  {
   "cell_type": "markdown",
   "id": "a547ebe0-e19a-48a1-9a6c-421e02f58a6d",
   "metadata": {},
   "source": [
    "#### Preprocessing data"
   ]
  },
  {
   "cell_type": "markdown",
   "id": "dc9d8a17-544a-4c1f-942d-eb1548832a87",
   "metadata": {},
   "source": [
    "##### Drop irrelevant columns"
   ]
  },
  {
   "cell_type": "code",
   "execution_count": 3,
   "id": "2cbf45ba-afe7-417c-b135-737c76b258ac",
   "metadata": {},
   "outputs": [
    {
     "data": {
      "text/plain": [
       "Index(['having_IP_Address', 'URL_Length', 'Shortining_Service',\n",
       "       'having_At_Symbol', 'double_slash_redirecting', 'Prefix_Suffix',\n",
       "       'having_Sub_Domain', 'SSLfinal_State', 'Domain_registeration_length',\n",
       "       'Favicon', 'port', 'HTTPS_token', 'Request_URL', 'URL_of_Anchor',\n",
       "       'Links_in_tags', 'SFH', 'Submitting_to_email', 'Abnormal_URL',\n",
       "       'Redirect', 'on_mouseover', 'RightClick', 'popUpWidnow', 'Iframe',\n",
       "       'age_of_domain', 'DNSRecord', 'web_traffic', 'Page_Rank',\n",
       "       'Google_Index', 'Links_pointing_to_page', 'Statistical_report',\n",
       "       'Result'],\n",
       "      dtype='object')"
      ]
     },
     "execution_count": 3,
     "metadata": {},
     "output_type": "execute_result"
    }
   ],
   "source": [
    "data.columns"
   ]
  },
  {
   "cell_type": "code",
   "execution_count": 4,
   "id": "e15bb271-1676-4c24-9f85-45c311438130",
   "metadata": {},
   "outputs": [],
   "source": [
    "data.drop(columns=['Statistical_report', 'web_traffic', 'Page_Rank', 'Abnormal_URL', 'DNSRecord', 'URL_Length', 'Domain_registeration_length'], inplace=True)"
   ]
  },
  {
   "cell_type": "code",
   "execution_count": 5,
   "id": "17f8ee11-06a8-4946-80b2-7379178c6a3c",
   "metadata": {},
   "outputs": [
    {
     "data": {
      "text/plain": [
       "Index(['having_IP_Address', 'Shortining_Service', 'having_At_Symbol',\n",
       "       'double_slash_redirecting', 'Prefix_Suffix', 'having_Sub_Domain',\n",
       "       'SSLfinal_State', 'Favicon', 'port', 'HTTPS_token', 'Request_URL',\n",
       "       'URL_of_Anchor', 'Links_in_tags', 'SFH', 'Submitting_to_email',\n",
       "       'Redirect', 'on_mouseover', 'RightClick', 'popUpWidnow', 'Iframe',\n",
       "       'age_of_domain', 'Google_Index', 'Links_pointing_to_page', 'Result'],\n",
       "      dtype='object')"
      ]
     },
     "execution_count": 5,
     "metadata": {},
     "output_type": "execute_result"
    }
   ],
   "source": [
    "data.columns"
   ]
  },
  {
   "cell_type": "code",
   "execution_count": 7,
   "id": "bc6ee582-653a-493c-b988-a0034ed65457",
   "metadata": {},
   "outputs": [],
   "source": [
    "indices_to_remove = data[data['Result'] == 0].index\n",
    "\n",
    "indices_to_remove = indices_to_remove[:300]\n",
    "\n",
    "data.drop(indices_to_remove, inplace=True)"
   ]
  },
  {
   "cell_type": "markdown",
   "id": "4607b78b-1c4e-4bb0-8d53-9f2819e00a17",
   "metadata": {},
   "source": [
    "#### Define X and y"
   ]
  },
  {
   "cell_type": "code",
   "execution_count": 9,
   "id": "fbeacb90-771f-4c78-9bcc-c5c4599af4e2",
   "metadata": {},
   "outputs": [],
   "source": [
    "X = data.drop(columns=['Result'])\n",
    "y = data['Result']"
   ]
  },
  {
   "cell_type": "markdown",
   "id": "94cd12cf-5f2c-4f41-ac58-2149faacc7d6",
   "metadata": {},
   "source": [
    "#### Split data on train and test sets"
   ]
  },
  {
   "cell_type": "code",
   "execution_count": 13,
   "id": "e9f4fe8a-0a64-4035-9a22-ff4d0b6b02e4",
   "metadata": {},
   "outputs": [],
   "source": [
    "X_train, X_test, y_train, y_test = train_test_split(X, y, test_size=0.3, \n",
    "                                                    random_state=42, stratify=y)"
   ]
  },
  {
   "cell_type": "code",
   "execution_count": 14,
   "id": "a3220269-58c8-4c1b-b127-8cf00add56b2",
   "metadata": {},
   "outputs": [
    {
     "data": {
      "text/plain": [
       "((1509, 23), (647, 23), (1509,), (647,))"
      ]
     },
     "execution_count": 14,
     "metadata": {},
     "output_type": "execute_result"
    }
   ],
   "source": [
    "X_train.shape, X_test.shape, y_train.shape, y_test.shape"
   ]
  },
  {
   "cell_type": "markdown",
   "id": "eea8fe91-3b51-4715-bd11-36ffe813f5ce",
   "metadata": {},
   "source": [
    "#### Initialize the model"
   ]
  },
  {
   "cell_type": "code",
   "execution_count": 15,
   "id": "a37cabc2-082e-49c3-8b68-2ce372729137",
   "metadata": {},
   "outputs": [],
   "source": [
    "def initialize_model():\n",
    "    \n",
    "    reg_l1 = regularizers.L1(0.02)\n",
    "    # reg_l2 = regularizers.L2(0.02)\n",
    "    \n",
    "    model = Sequential()\n",
    "    model.add(layers.Dense(64, activation='relu', input_shape=(23,)))\n",
    "    model.add(layers.Dropout(0.2))\n",
    "    model.add(layers.Dense(32, activation='relu', bias_regularizer=reg_l1))\n",
    "    model.add(layers.Dense(1, activation='sigmoid'))\n",
    "    \n",
    "    opt = tf.keras.optimizers.Adam(learning_rate=0.00009)\n",
    "    model.compile(optimizer=opt,\n",
    "              loss='binary_crossentropy',\n",
    "              metrics=['accuracy'])\n",
    "    \n",
    "    return model"
   ]
  },
  {
   "cell_type": "markdown",
   "id": "796498e8-d88e-4c05-a2c4-6012074fcb0e",
   "metadata": {},
   "source": [
    "#### Fitting the model"
   ]
  },
  {
   "cell_type": "code",
   "execution_count": 16,
   "id": "c767928f-d9f6-42d6-8582-644d6044d819",
   "metadata": {
    "collapsed": true,
    "jupyter": {
     "outputs_hidden": true
    },
    "tags": []
   },
   "outputs": [
    {
     "name": "stdout",
     "output_type": "stream",
     "text": [
      "Epoch 1/100\n"
     ]
    },
    {
     "name": "stderr",
     "output_type": "stream",
     "text": [
      "2023-12-23 19:00:14.596337: W tensorflow/core/platform/profile_utils/cpu_utils.cc:128] Failed to get CPU frequency: 0 Hz\n"
     ]
    },
    {
     "name": "stdout",
     "output_type": "stream",
     "text": [
      "48/48 [==============================] - 0s 2ms/step - loss: 0.7636 - accuracy: 0.5017 - val_loss: 0.7305 - val_accuracy: 0.4992\n",
      "Epoch 2/100\n",
      "48/48 [==============================] - 0s 608us/step - loss: 0.7264 - accuracy: 0.5083 - val_loss: 0.6955 - val_accuracy: 0.5100\n",
      "Epoch 3/100\n",
      "48/48 [==============================] - 0s 592us/step - loss: 0.6897 - accuracy: 0.5209 - val_loss: 0.6668 - val_accuracy: 0.5487\n",
      "Epoch 4/100\n",
      "48/48 [==============================] - 0s 624us/step - loss: 0.6635 - accuracy: 0.5613 - val_loss: 0.6405 - val_accuracy: 0.5981\n",
      "Epoch 5/100\n",
      "48/48 [==============================] - 0s 601us/step - loss: 0.6379 - accuracy: 0.6057 - val_loss: 0.6151 - val_accuracy: 0.6337\n",
      "Epoch 6/100\n",
      "48/48 [==============================] - 0s 632us/step - loss: 0.6111 - accuracy: 0.6561 - val_loss: 0.5888 - val_accuracy: 0.7125\n",
      "Epoch 7/100\n",
      "48/48 [==============================] - 0s 620us/step - loss: 0.5833 - accuracy: 0.7044 - val_loss: 0.5616 - val_accuracy: 0.7743\n",
      "Epoch 8/100\n",
      "48/48 [==============================] - 0s 585us/step - loss: 0.5546 - accuracy: 0.7541 - val_loss: 0.5339 - val_accuracy: 0.8238\n",
      "Epoch 9/100\n",
      "48/48 [==============================] - 0s 618us/step - loss: 0.5332 - accuracy: 0.7793 - val_loss: 0.5043 - val_accuracy: 0.8594\n",
      "Epoch 10/100\n",
      "48/48 [==============================] - 0s 605us/step - loss: 0.5043 - accuracy: 0.8250 - val_loss: 0.4748 - val_accuracy: 0.8841\n",
      "Epoch 11/100\n",
      "48/48 [==============================] - 0s 592us/step - loss: 0.4742 - accuracy: 0.8502 - val_loss: 0.4451 - val_accuracy: 0.9088\n",
      "Epoch 12/100\n",
      "48/48 [==============================] - 0s 622us/step - loss: 0.4458 - accuracy: 0.8569 - val_loss: 0.4159 - val_accuracy: 0.9165\n",
      "Epoch 13/100\n",
      "48/48 [==============================] - 0s 617us/step - loss: 0.4176 - accuracy: 0.8834 - val_loss: 0.3871 - val_accuracy: 0.9212\n",
      "Epoch 14/100\n",
      "48/48 [==============================] - 0s 638us/step - loss: 0.3909 - accuracy: 0.8966 - val_loss: 0.3600 - val_accuracy: 0.9196\n",
      "Epoch 15/100\n",
      "48/48 [==============================] - 0s 611us/step - loss: 0.3653 - accuracy: 0.9026 - val_loss: 0.3352 - val_accuracy: 0.9320\n",
      "Epoch 16/100\n",
      "48/48 [==============================] - 0s 590us/step - loss: 0.3344 - accuracy: 0.9132 - val_loss: 0.3122 - val_accuracy: 0.9304\n",
      "Epoch 17/100\n",
      "48/48 [==============================] - 0s 586us/step - loss: 0.3162 - accuracy: 0.9225 - val_loss: 0.2916 - val_accuracy: 0.9304\n",
      "Epoch 18/100\n",
      "48/48 [==============================] - 0s 594us/step - loss: 0.3030 - accuracy: 0.9112 - val_loss: 0.2740 - val_accuracy: 0.9304\n",
      "Epoch 19/100\n",
      "48/48 [==============================] - 0s 620us/step - loss: 0.2848 - accuracy: 0.9172 - val_loss: 0.2592 - val_accuracy: 0.9320\n",
      "Epoch 20/100\n",
      "48/48 [==============================] - 0s 588us/step - loss: 0.2703 - accuracy: 0.9251 - val_loss: 0.2461 - val_accuracy: 0.9304\n",
      "Epoch 21/100\n",
      "48/48 [==============================] - 0s 579us/step - loss: 0.2571 - accuracy: 0.9258 - val_loss: 0.2351 - val_accuracy: 0.9289\n",
      "Epoch 22/100\n",
      "48/48 [==============================] - 0s 578us/step - loss: 0.2450 - accuracy: 0.9258 - val_loss: 0.2256 - val_accuracy: 0.9289\n",
      "Epoch 23/100\n",
      "48/48 [==============================] - 0s 781us/step - loss: 0.2335 - accuracy: 0.9238 - val_loss: 0.2181 - val_accuracy: 0.9289\n",
      "Epoch 24/100\n",
      "48/48 [==============================] - 0s 619us/step - loss: 0.2283 - accuracy: 0.9311 - val_loss: 0.2109 - val_accuracy: 0.9274\n",
      "Epoch 25/100\n",
      "48/48 [==============================] - 0s 603us/step - loss: 0.2168 - accuracy: 0.9317 - val_loss: 0.2050 - val_accuracy: 0.9289\n",
      "Epoch 26/100\n",
      "48/48 [==============================] - 0s 606us/step - loss: 0.2107 - accuracy: 0.9251 - val_loss: 0.2003 - val_accuracy: 0.9258\n",
      "Epoch 27/100\n",
      "48/48 [==============================] - 0s 610us/step - loss: 0.2092 - accuracy: 0.9298 - val_loss: 0.1966 - val_accuracy: 0.9243\n",
      "Epoch 28/100\n",
      "48/48 [==============================] - 0s 611us/step - loss: 0.2023 - accuracy: 0.9258 - val_loss: 0.1927 - val_accuracy: 0.9243\n",
      "Epoch 29/100\n",
      "48/48 [==============================] - 0s 649us/step - loss: 0.1973 - accuracy: 0.9311 - val_loss: 0.1896 - val_accuracy: 0.9258\n",
      "Epoch 30/100\n",
      "48/48 [==============================] - 0s 619us/step - loss: 0.1938 - accuracy: 0.9311 - val_loss: 0.1868 - val_accuracy: 0.9258\n",
      "Epoch 31/100\n",
      "48/48 [==============================] - 0s 609us/step - loss: 0.1865 - accuracy: 0.9317 - val_loss: 0.1843 - val_accuracy: 0.9258\n",
      "Epoch 32/100\n",
      "48/48 [==============================] - 0s 618us/step - loss: 0.1877 - accuracy: 0.9271 - val_loss: 0.1819 - val_accuracy: 0.9274\n",
      "Epoch 33/100\n",
      "48/48 [==============================] - 0s 904us/step - loss: 0.1837 - accuracy: 0.9251 - val_loss: 0.1796 - val_accuracy: 0.9274\n",
      "Epoch 34/100\n",
      "48/48 [==============================] - 0s 637us/step - loss: 0.1786 - accuracy: 0.9351 - val_loss: 0.1779 - val_accuracy: 0.9274\n",
      "Epoch 35/100\n",
      "48/48 [==============================] - 0s 617us/step - loss: 0.1724 - accuracy: 0.9311 - val_loss: 0.1765 - val_accuracy: 0.9274\n",
      "Epoch 36/100\n",
      "48/48 [==============================] - 0s 624us/step - loss: 0.1821 - accuracy: 0.9324 - val_loss: 0.1751 - val_accuracy: 0.9274\n",
      "Epoch 37/100\n",
      "48/48 [==============================] - 0s 639us/step - loss: 0.1725 - accuracy: 0.9351 - val_loss: 0.1742 - val_accuracy: 0.9304\n",
      "Epoch 38/100\n",
      "48/48 [==============================] - 0s 610us/step - loss: 0.1680 - accuracy: 0.9337 - val_loss: 0.1733 - val_accuracy: 0.9304\n",
      "Epoch 39/100\n",
      "48/48 [==============================] - 0s 609us/step - loss: 0.1671 - accuracy: 0.9351 - val_loss: 0.1721 - val_accuracy: 0.9320\n",
      "Epoch 40/100\n",
      "48/48 [==============================] - 0s 643us/step - loss: 0.1704 - accuracy: 0.9351 - val_loss: 0.1713 - val_accuracy: 0.9335\n",
      "Epoch 41/100\n",
      "48/48 [==============================] - 0s 609us/step - loss: 0.1663 - accuracy: 0.9331 - val_loss: 0.1703 - val_accuracy: 0.9335\n",
      "Epoch 42/100\n",
      "48/48 [==============================] - 0s 626us/step - loss: 0.1694 - accuracy: 0.9304 - val_loss: 0.1698 - val_accuracy: 0.9351\n",
      "Epoch 43/100\n",
      "48/48 [==============================] - 0s 629us/step - loss: 0.1573 - accuracy: 0.9384 - val_loss: 0.1690 - val_accuracy: 0.9351\n",
      "Epoch 44/100\n",
      "48/48 [==============================] - 0s 594us/step - loss: 0.1581 - accuracy: 0.9284 - val_loss: 0.1686 - val_accuracy: 0.9351\n",
      "Epoch 45/100\n",
      "48/48 [==============================] - 0s 596us/step - loss: 0.1536 - accuracy: 0.9351 - val_loss: 0.1672 - val_accuracy: 0.9366\n",
      "Epoch 46/100\n",
      "48/48 [==============================] - 0s 607us/step - loss: 0.1557 - accuracy: 0.9430 - val_loss: 0.1669 - val_accuracy: 0.9366\n",
      "Epoch 47/100\n",
      "48/48 [==============================] - 0s 623us/step - loss: 0.1586 - accuracy: 0.9351 - val_loss: 0.1668 - val_accuracy: 0.9351\n",
      "Epoch 48/100\n",
      "48/48 [==============================] - 0s 629us/step - loss: 0.1567 - accuracy: 0.9404 - val_loss: 0.1663 - val_accuracy: 0.9382\n",
      "Epoch 49/100\n",
      "48/48 [==============================] - 0s 635us/step - loss: 0.1487 - accuracy: 0.9417 - val_loss: 0.1661 - val_accuracy: 0.9351\n",
      "Epoch 50/100\n",
      "48/48 [==============================] - 0s 620us/step - loss: 0.1574 - accuracy: 0.9370 - val_loss: 0.1656 - val_accuracy: 0.9382\n",
      "Epoch 51/100\n",
      "48/48 [==============================] - 0s 607us/step - loss: 0.1495 - accuracy: 0.9430 - val_loss: 0.1648 - val_accuracy: 0.9382\n",
      "Epoch 52/100\n",
      "48/48 [==============================] - 0s 604us/step - loss: 0.1505 - accuracy: 0.9410 - val_loss: 0.1649 - val_accuracy: 0.9382\n",
      "Epoch 53/100\n",
      "48/48 [==============================] - 0s 611us/step - loss: 0.1528 - accuracy: 0.9397 - val_loss: 0.1648 - val_accuracy: 0.9351\n",
      "Epoch 54/100\n",
      "48/48 [==============================] - 0s 620us/step - loss: 0.1433 - accuracy: 0.9410 - val_loss: 0.1648 - val_accuracy: 0.9351\n",
      "Epoch 55/100\n",
      "48/48 [==============================] - 0s 645us/step - loss: 0.1469 - accuracy: 0.9417 - val_loss: 0.1647 - val_accuracy: 0.9351\n",
      "Epoch 56/100\n",
      "48/48 [==============================] - 0s 637us/step - loss: 0.1494 - accuracy: 0.9390 - val_loss: 0.1640 - val_accuracy: 0.9351\n",
      "Epoch 57/100\n",
      "48/48 [==============================] - 0s 615us/step - loss: 0.1503 - accuracy: 0.9384 - val_loss: 0.1642 - val_accuracy: 0.9351\n",
      "Epoch 58/100\n",
      "48/48 [==============================] - 0s 598us/step - loss: 0.1513 - accuracy: 0.9390 - val_loss: 0.1640 - val_accuracy: 0.9351\n",
      "Epoch 59/100\n",
      "48/48 [==============================] - 0s 603us/step - loss: 0.1441 - accuracy: 0.9417 - val_loss: 0.1642 - val_accuracy: 0.9351\n",
      "Epoch 60/100\n",
      "48/48 [==============================] - 0s 611us/step - loss: 0.1418 - accuracy: 0.9463 - val_loss: 0.1640 - val_accuracy: 0.9351\n",
      "Epoch 61/100\n",
      "48/48 [==============================] - 0s 921us/step - loss: 0.1457 - accuracy: 0.9423 - val_loss: 0.1645 - val_accuracy: 0.9335\n",
      "Epoch 62/100\n",
      "48/48 [==============================] - 0s 600us/step - loss: 0.1438 - accuracy: 0.9417 - val_loss: 0.1639 - val_accuracy: 0.9351\n",
      "Epoch 63/100\n",
      "48/48 [==============================] - 0s 610us/step - loss: 0.1410 - accuracy: 0.9470 - val_loss: 0.1641 - val_accuracy: 0.9335\n",
      "Epoch 64/100\n",
      "48/48 [==============================] - 0s 610us/step - loss: 0.1440 - accuracy: 0.9404 - val_loss: 0.1639 - val_accuracy: 0.9320\n",
      "Epoch 65/100\n",
      "48/48 [==============================] - 0s 610us/step - loss: 0.1448 - accuracy: 0.9417 - val_loss: 0.1633 - val_accuracy: 0.9320\n",
      "Epoch 66/100\n",
      "48/48 [==============================] - 0s 606us/step - loss: 0.1379 - accuracy: 0.9490 - val_loss: 0.1632 - val_accuracy: 0.9320\n",
      "Epoch 67/100\n",
      "48/48 [==============================] - 0s 635us/step - loss: 0.1353 - accuracy: 0.9463 - val_loss: 0.1630 - val_accuracy: 0.9320\n",
      "Epoch 68/100\n",
      "48/48 [==============================] - 0s 613us/step - loss: 0.1363 - accuracy: 0.9397 - val_loss: 0.1629 - val_accuracy: 0.9320\n",
      "Epoch 69/100\n",
      "48/48 [==============================] - 0s 613us/step - loss: 0.1389 - accuracy: 0.9463 - val_loss: 0.1630 - val_accuracy: 0.9351\n",
      "Epoch 70/100\n",
      "48/48 [==============================] - 0s 607us/step - loss: 0.1389 - accuracy: 0.9437 - val_loss: 0.1631 - val_accuracy: 0.9351\n",
      "Epoch 71/100\n",
      "48/48 [==============================] - 0s 607us/step - loss: 0.1412 - accuracy: 0.9430 - val_loss: 0.1628 - val_accuracy: 0.9351\n",
      "Epoch 72/100\n",
      "48/48 [==============================] - 0s 626us/step - loss: 0.1410 - accuracy: 0.9463 - val_loss: 0.1628 - val_accuracy: 0.9351\n",
      "Epoch 73/100\n",
      "48/48 [==============================] - 0s 620us/step - loss: 0.1339 - accuracy: 0.9476 - val_loss: 0.1629 - val_accuracy: 0.9351\n",
      "Epoch 74/100\n",
      "48/48 [==============================] - 0s 621us/step - loss: 0.1348 - accuracy: 0.9523 - val_loss: 0.1625 - val_accuracy: 0.9351\n",
      "Epoch 75/100\n",
      "48/48 [==============================] - 0s 619us/step - loss: 0.1383 - accuracy: 0.9463 - val_loss: 0.1622 - val_accuracy: 0.9351\n",
      "Epoch 76/100\n",
      "48/48 [==============================] - 0s 605us/step - loss: 0.1322 - accuracy: 0.9536 - val_loss: 0.1620 - val_accuracy: 0.9351\n",
      "Epoch 77/100\n",
      "48/48 [==============================] - 0s 611us/step - loss: 0.1285 - accuracy: 0.9496 - val_loss: 0.1621 - val_accuracy: 0.9351\n",
      "Epoch 78/100\n",
      "48/48 [==============================] - 0s 604us/step - loss: 0.1379 - accuracy: 0.9443 - val_loss: 0.1617 - val_accuracy: 0.9366\n",
      "Epoch 79/100\n",
      "48/48 [==============================] - 0s 610us/step - loss: 0.1304 - accuracy: 0.9470 - val_loss: 0.1618 - val_accuracy: 0.9366\n",
      "Epoch 80/100\n",
      "48/48 [==============================] - 0s 595us/step - loss: 0.1326 - accuracy: 0.9417 - val_loss: 0.1616 - val_accuracy: 0.9366\n",
      "Epoch 81/100\n",
      "48/48 [==============================] - 0s 589us/step - loss: 0.1329 - accuracy: 0.9470 - val_loss: 0.1620 - val_accuracy: 0.9351\n",
      "Epoch 82/100\n",
      "48/48 [==============================] - 0s 602us/step - loss: 0.1290 - accuracy: 0.9470 - val_loss: 0.1621 - val_accuracy: 0.9351\n",
      "Epoch 83/100\n",
      "48/48 [==============================] - 0s 623us/step - loss: 0.1320 - accuracy: 0.9470 - val_loss: 0.1623 - val_accuracy: 0.9351\n",
      "Epoch 84/100\n",
      "48/48 [==============================] - 0s 604us/step - loss: 0.1342 - accuracy: 0.9430 - val_loss: 0.1616 - val_accuracy: 0.9382\n",
      "Epoch 85/100\n",
      "48/48 [==============================] - 0s 595us/step - loss: 0.1287 - accuracy: 0.9470 - val_loss: 0.1611 - val_accuracy: 0.9366\n",
      "Epoch 86/100\n",
      "48/48 [==============================] - 0s 617us/step - loss: 0.1253 - accuracy: 0.9463 - val_loss: 0.1605 - val_accuracy: 0.9366\n",
      "Epoch 87/100\n",
      "48/48 [==============================] - 0s 606us/step - loss: 0.1303 - accuracy: 0.9510 - val_loss: 0.1604 - val_accuracy: 0.9351\n",
      "Epoch 88/100\n",
      "48/48 [==============================] - 0s 607us/step - loss: 0.1291 - accuracy: 0.9483 - val_loss: 0.1603 - val_accuracy: 0.9366\n",
      "Epoch 89/100\n",
      "48/48 [==============================] - 0s 639us/step - loss: 0.1267 - accuracy: 0.9523 - val_loss: 0.1602 - val_accuracy: 0.9366\n",
      "Epoch 90/100\n",
      "48/48 [==============================] - 0s 627us/step - loss: 0.1314 - accuracy: 0.9470 - val_loss: 0.1602 - val_accuracy: 0.9366\n",
      "Epoch 91/100\n",
      "48/48 [==============================] - 0s 631us/step - loss: 0.1315 - accuracy: 0.9457 - val_loss: 0.1599 - val_accuracy: 0.9366\n",
      "Epoch 92/100\n",
      "48/48 [==============================] - 0s 612us/step - loss: 0.1351 - accuracy: 0.9417 - val_loss: 0.1599 - val_accuracy: 0.9366\n",
      "Epoch 93/100\n",
      "48/48 [==============================] - 0s 611us/step - loss: 0.1237 - accuracy: 0.9496 - val_loss: 0.1600 - val_accuracy: 0.9366\n",
      "Epoch 94/100\n",
      "48/48 [==============================] - 0s 601us/step - loss: 0.1275 - accuracy: 0.9496 - val_loss: 0.1596 - val_accuracy: 0.9366\n",
      "Epoch 95/100\n",
      "48/48 [==============================] - 0s 622us/step - loss: 0.1274 - accuracy: 0.9556 - val_loss: 0.1593 - val_accuracy: 0.9397\n",
      "Epoch 96/100\n",
      "48/48 [==============================] - 0s 620us/step - loss: 0.1277 - accuracy: 0.9523 - val_loss: 0.1590 - val_accuracy: 0.9366\n",
      "Epoch 97/100\n",
      "48/48 [==============================] - 0s 609us/step - loss: 0.1258 - accuracy: 0.9523 - val_loss: 0.1592 - val_accuracy: 0.9397\n",
      "Epoch 98/100\n",
      "48/48 [==============================] - 0s 613us/step - loss: 0.1256 - accuracy: 0.9463 - val_loss: 0.1590 - val_accuracy: 0.9366\n",
      "Epoch 99/100\n",
      "48/48 [==============================] - 0s 604us/step - loss: 0.1307 - accuracy: 0.9490 - val_loss: 0.1585 - val_accuracy: 0.9397\n",
      "Epoch 100/100\n",
      "48/48 [==============================] - 0s 604us/step - loss: 0.1276 - accuracy: 0.9503 - val_loss: 0.1581 - val_accuracy: 0.9397\n"
     ]
    }
   ],
   "source": [
    "model = initialize_model()\n",
    "\n",
    "es = EarlyStopping(monitor='val_loss', patience=10, restore_best_weights=True)\n",
    "\n",
    "history = model.fit(X_train, y_train, \n",
    "          epochs=100, batch_size=32, \n",
    "          verbose=1, validation_data=(X_test, y_test))"
   ]
  },
  {
   "cell_type": "markdown",
   "id": "05da5e41-ceee-45c4-aada-045851ba0154",
   "metadata": {},
   "source": [
    "#### Testing the model"
   ]
  },
  {
   "cell_type": "code",
   "execution_count": 17,
   "id": "c6d093a4-8a6b-40b1-9937-91847039b05e",
   "metadata": {},
   "outputs": [
    {
     "name": "stdout",
     "output_type": "stream",
     "text": [
      "21/21 [==============================] - 0s 416us/step - loss: 0.1581 - accuracy: 0.9397\n"
     ]
    }
   ],
   "source": [
    "test_accuracy = model.evaluate(X_test, y_test)[1]"
   ]
  },
  {
   "cell_type": "markdown",
   "id": "604a5b75-b77a-4982-a8da-34bbddf3569a",
   "metadata": {},
   "source": [
    "#### Save the model"
   ]
  },
  {
   "cell_type": "code",
   "execution_count": 18,
   "id": "fd57b801-818a-4934-bc05-a259c1e87993",
   "metadata": {},
   "outputs": [],
   "source": [
    "from tensorflow.keras.models import load_model, save_model\n",
    "\n",
    "model.save(f'../saved_models/validation_model_1.h5')"
   ]
  }
 ],
 "metadata": {
  "kernelspec": {
   "display_name": "Python 3 (ipykernel)",
   "language": "python",
   "name": "python3"
  },
  "language_info": {
   "codemirror_mode": {
    "name": "ipython",
    "version": 3
   },
   "file_extension": ".py",
   "mimetype": "text/x-python",
   "name": "python",
   "nbconvert_exporter": "python",
   "pygments_lexer": "ipython3",
   "version": "3.10.6"
  }
 },
 "nbformat": 4,
 "nbformat_minor": 5
}
