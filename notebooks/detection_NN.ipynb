{
 "cells": [
  {
   "cell_type": "markdown",
   "id": "a4aa89d1-ad77-4365-8064-0c4a6cba2304",
   "metadata": {},
   "source": [
    "#### Importing packages"
   ]
  },
  {
   "cell_type": "code",
   "execution_count": 63,
   "id": "b93401cb-b9a1-4ff6-a944-c1007678fa04",
   "metadata": {},
   "outputs": [],
   "source": [
    "import pandas as pd\n",
    "import numpy as np\n",
    "import matplotlib.pyplot as plt\n",
    "import seaborn as sns\n",
    "\n",
    "import tensorflow as tf\n",
    "from tensorflow.keras import Sequential\n",
    "from sklearn.model_selection import train_test_split\n",
    "from sklearn.preprocessing import StandardScaler\n",
    "from tensorflow.keras.regularizers import l2\n",
    "from sklearn.metrics import accuracy_score\n",
    "from tensorflow.keras import datasets, layers, models\n",
    "from tensorflow.keras.callbacks import EarlyStopping\n",
    "from sklearn.model_selection import cross_validate"
   ]
  },
  {
   "cell_type": "markdown",
   "id": "4d2a7d60-a3be-48fd-821f-58358210c5f1",
   "metadata": {},
   "source": [
    "#### Upload dataset"
   ]
  },
  {
   "cell_type": "code",
   "execution_count": 6,
   "id": "7503fd9d-24da-4722-b2c4-ae1c6e481021",
   "metadata": {},
   "outputs": [
    {
     "data": {
      "text/html": [
       "<div>\n",
       "<style scoped>\n",
       "    .dataframe tbody tr th:only-of-type {\n",
       "        vertical-align: middle;\n",
       "    }\n",
       "\n",
       "    .dataframe tbody tr th {\n",
       "        vertical-align: top;\n",
       "    }\n",
       "\n",
       "    .dataframe thead th {\n",
       "        text-align: right;\n",
       "    }\n",
       "</style>\n",
       "<table border=\"1\" class=\"dataframe\">\n",
       "  <thead>\n",
       "    <tr style=\"text-align: right;\">\n",
       "      <th></th>\n",
       "      <th>url</th>\n",
       "      <th>length_url</th>\n",
       "      <th>length_hostname</th>\n",
       "      <th>ip</th>\n",
       "      <th>nb_dots</th>\n",
       "      <th>nb_hyphens</th>\n",
       "      <th>nb_at</th>\n",
       "      <th>nb_qm</th>\n",
       "      <th>nb_and</th>\n",
       "      <th>nb_or</th>\n",
       "      <th>...</th>\n",
       "      <th>domain_in_title</th>\n",
       "      <th>domain_with_copyright</th>\n",
       "      <th>whois_registered_domain</th>\n",
       "      <th>domain_registration_length</th>\n",
       "      <th>domain_age</th>\n",
       "      <th>web_traffic</th>\n",
       "      <th>dns_record</th>\n",
       "      <th>google_index</th>\n",
       "      <th>page_rank</th>\n",
       "      <th>status</th>\n",
       "    </tr>\n",
       "  </thead>\n",
       "  <tbody>\n",
       "    <tr>\n",
       "      <th>0</th>\n",
       "      <td>http://www.crestonwood.com/router.php</td>\n",
       "      <td>37</td>\n",
       "      <td>19</td>\n",
       "      <td>0</td>\n",
       "      <td>3</td>\n",
       "      <td>0</td>\n",
       "      <td>0</td>\n",
       "      <td>0</td>\n",
       "      <td>0</td>\n",
       "      <td>0</td>\n",
       "      <td>...</td>\n",
       "      <td>0</td>\n",
       "      <td>1</td>\n",
       "      <td>0</td>\n",
       "      <td>45</td>\n",
       "      <td>-1</td>\n",
       "      <td>0</td>\n",
       "      <td>1</td>\n",
       "      <td>1</td>\n",
       "      <td>4</td>\n",
       "      <td>legitimate</td>\n",
       "    </tr>\n",
       "    <tr>\n",
       "      <th>1</th>\n",
       "      <td>http://shadetreetechnology.com/V4/validation/a...</td>\n",
       "      <td>77</td>\n",
       "      <td>23</td>\n",
       "      <td>1</td>\n",
       "      <td>1</td>\n",
       "      <td>0</td>\n",
       "      <td>0</td>\n",
       "      <td>0</td>\n",
       "      <td>0</td>\n",
       "      <td>0</td>\n",
       "      <td>...</td>\n",
       "      <td>1</td>\n",
       "      <td>0</td>\n",
       "      <td>0</td>\n",
       "      <td>77</td>\n",
       "      <td>5767</td>\n",
       "      <td>0</td>\n",
       "      <td>0</td>\n",
       "      <td>1</td>\n",
       "      <td>2</td>\n",
       "      <td>phishing</td>\n",
       "    </tr>\n",
       "    <tr>\n",
       "      <th>2</th>\n",
       "      <td>https://support-appleld.com.secureupdate.duila...</td>\n",
       "      <td>126</td>\n",
       "      <td>50</td>\n",
       "      <td>1</td>\n",
       "      <td>4</td>\n",
       "      <td>1</td>\n",
       "      <td>0</td>\n",
       "      <td>1</td>\n",
       "      <td>2</td>\n",
       "      <td>0</td>\n",
       "      <td>...</td>\n",
       "      <td>1</td>\n",
       "      <td>0</td>\n",
       "      <td>0</td>\n",
       "      <td>14</td>\n",
       "      <td>4004</td>\n",
       "      <td>5828815</td>\n",
       "      <td>0</td>\n",
       "      <td>1</td>\n",
       "      <td>0</td>\n",
       "      <td>phishing</td>\n",
       "    </tr>\n",
       "    <tr>\n",
       "      <th>3</th>\n",
       "      <td>http://rgipt.ac.in</td>\n",
       "      <td>18</td>\n",
       "      <td>11</td>\n",
       "      <td>0</td>\n",
       "      <td>2</td>\n",
       "      <td>0</td>\n",
       "      <td>0</td>\n",
       "      <td>0</td>\n",
       "      <td>0</td>\n",
       "      <td>0</td>\n",
       "      <td>...</td>\n",
       "      <td>1</td>\n",
       "      <td>0</td>\n",
       "      <td>0</td>\n",
       "      <td>62</td>\n",
       "      <td>-1</td>\n",
       "      <td>107721</td>\n",
       "      <td>0</td>\n",
       "      <td>0</td>\n",
       "      <td>3</td>\n",
       "      <td>legitimate</td>\n",
       "    </tr>\n",
       "    <tr>\n",
       "      <th>4</th>\n",
       "      <td>http://www.iracing.com/tracks/gateway-motorspo...</td>\n",
       "      <td>55</td>\n",
       "      <td>15</td>\n",
       "      <td>0</td>\n",
       "      <td>2</td>\n",
       "      <td>2</td>\n",
       "      <td>0</td>\n",
       "      <td>0</td>\n",
       "      <td>0</td>\n",
       "      <td>0</td>\n",
       "      <td>...</td>\n",
       "      <td>0</td>\n",
       "      <td>1</td>\n",
       "      <td>0</td>\n",
       "      <td>224</td>\n",
       "      <td>8175</td>\n",
       "      <td>8725</td>\n",
       "      <td>0</td>\n",
       "      <td>0</td>\n",
       "      <td>6</td>\n",
       "      <td>legitimate</td>\n",
       "    </tr>\n",
       "  </tbody>\n",
       "</table>\n",
       "<p>5 rows × 89 columns</p>\n",
       "</div>"
      ],
      "text/plain": [
       "                                                 url  length_url  \\\n",
       "0              http://www.crestonwood.com/router.php          37   \n",
       "1  http://shadetreetechnology.com/V4/validation/a...          77   \n",
       "2  https://support-appleld.com.secureupdate.duila...         126   \n",
       "3                                 http://rgipt.ac.in          18   \n",
       "4  http://www.iracing.com/tracks/gateway-motorspo...          55   \n",
       "\n",
       "   length_hostname  ip  nb_dots  nb_hyphens  nb_at  nb_qm  nb_and  nb_or  ...  \\\n",
       "0               19   0        3           0      0      0       0      0  ...   \n",
       "1               23   1        1           0      0      0       0      0  ...   \n",
       "2               50   1        4           1      0      1       2      0  ...   \n",
       "3               11   0        2           0      0      0       0      0  ...   \n",
       "4               15   0        2           2      0      0       0      0  ...   \n",
       "\n",
       "   domain_in_title  domain_with_copyright  whois_registered_domain  \\\n",
       "0                0                      1                        0   \n",
       "1                1                      0                        0   \n",
       "2                1                      0                        0   \n",
       "3                1                      0                        0   \n",
       "4                0                      1                        0   \n",
       "\n",
       "   domain_registration_length  domain_age  web_traffic  dns_record  \\\n",
       "0                          45          -1            0           1   \n",
       "1                          77        5767            0           0   \n",
       "2                          14        4004      5828815           0   \n",
       "3                          62          -1       107721           0   \n",
       "4                         224        8175         8725           0   \n",
       "\n",
       "   google_index  page_rank      status  \n",
       "0             1          4  legitimate  \n",
       "1             1          2    phishing  \n",
       "2             1          0    phishing  \n",
       "3             0          3  legitimate  \n",
       "4             0          6  legitimate  \n",
       "\n",
       "[5 rows x 89 columns]"
      ]
     },
     "execution_count": 6,
     "metadata": {},
     "output_type": "execute_result"
    }
   ],
   "source": [
    "data = pd.read_csv('../raw_data/dataset_phishing.csv')\n",
    "data.head()"
   ]
  },
  {
   "cell_type": "markdown",
   "id": "a547ebe0-e19a-48a1-9a6c-421e02f58a6d",
   "metadata": {},
   "source": [
    "#### Preprocessing data"
   ]
  },
  {
   "cell_type": "markdown",
   "id": "d110c23a-d0a8-4222-b58e-0d1ce8ed1f12",
   "metadata": {},
   "source": [
    "##### Remove corrupted records"
   ]
  },
  {
   "cell_type": "code",
   "execution_count": 7,
   "id": "a750b965-6de1-46be-91b1-8286d71e53bb",
   "metadata": {
    "collapsed": true,
    "jupyter": {
     "outputs_hidden": true
    },
    "tags": []
   },
   "outputs": [
    {
     "data": {
      "text/plain": [
       "count     9593.000000\n",
       "mean      4840.694048\n",
       "std       2782.092889\n",
       "min          0.000000\n",
       "25%       2429.000000\n",
       "50%       5076.000000\n",
       "75%       7287.000000\n",
       "max      12874.000000\n",
       "Name: domain_age, dtype: float64"
      ]
     },
     "execution_count": 7,
     "metadata": {},
     "output_type": "execute_result"
    }
   ],
   "source": [
    "data.drop(data[data['domain_age'] <= -1].index, inplace=True) # remove corrupted records\n",
    "data['domain_age'].describe()"
   ]
  },
  {
   "cell_type": "markdown",
   "id": "dc9d8a17-544a-4c1f-942d-eb1548832a87",
   "metadata": {},
   "source": [
    "##### Drop irrelevant columns"
   ]
  },
  {
   "cell_type": "code",
   "execution_count": 8,
   "id": "e15bb271-1676-4c24-9f85-45c311438130",
   "metadata": {},
   "outputs": [],
   "source": [
    "data.drop(columns=['statistical_report', 'phish_hints', \n",
    "                   'domain_in_brand', 'brand_in_subdomain', 'brand_in_path', \n",
    "                   'web_traffic', 'page_rank', 'dns_record'], inplace=True)"
   ]
  },
  {
   "cell_type": "markdown",
   "id": "b19293ed-9e38-4fd0-87cb-8aa4fb93c0b0",
   "metadata": {},
   "source": [
    "##### Encode target"
   ]
  },
  {
   "cell_type": "code",
   "execution_count": 9,
   "id": "f1235539-0dc5-4980-ab26-1a35c6d6dc83",
   "metadata": {},
   "outputs": [],
   "source": [
    "class_map = {'legitimate':0, 'phishing':1}\n",
    "data['status'] = data['status'].map(class_map)"
   ]
  },
  {
   "cell_type": "markdown",
   "id": "4607b78b-1c4e-4bb0-8d53-9f2819e00a17",
   "metadata": {},
   "source": [
    "#### Define X and y"
   ]
  },
  {
   "cell_type": "code",
   "execution_count": 15,
   "id": "371d73e5-5121-4411-84cd-d0f46d11639a",
   "metadata": {},
   "outputs": [],
   "source": [
    "X = data.drop(columns=['url', 'status'])\n",
    "y = data['status']"
   ]
  },
  {
   "cell_type": "markdown",
   "id": "94cd12cf-5f2c-4f41-ac58-2149faacc7d6",
   "metadata": {},
   "source": [
    "#### Split data on train and test sets"
   ]
  },
  {
   "cell_type": "code",
   "execution_count": 16,
   "id": "e9f4fe8a-0a64-4035-9a22-ff4d0b6b02e4",
   "metadata": {},
   "outputs": [],
   "source": [
    "X_train, X_test, y_train, y_test = train_test_split(X, y, test_size=0.3, \n",
    "                                                    random_state=42)"
   ]
  },
  {
   "cell_type": "markdown",
   "id": "e4d9a8c5-1399-4687-b8e7-2cc20824d66b",
   "metadata": {},
   "source": [
    "#### Scale train and test data"
   ]
  },
  {
   "cell_type": "code",
   "execution_count": 17,
   "id": "eb2d7677-605c-46a8-9d36-9e7b36d0eeeb",
   "metadata": {},
   "outputs": [],
   "source": [
    "scaler = StandardScaler()\n",
    "X_train_scaled = scaler.fit_transform(X_train)\n",
    "X_test_scaled = scaler.transform(X_test)"
   ]
  },
  {
   "cell_type": "markdown",
   "id": "eea8fe91-3b51-4715-bd11-36ffe813f5ce",
   "metadata": {},
   "source": [
    "#### Initialize the model"
   ]
  },
  {
   "cell_type": "code",
   "execution_count": 72,
   "id": "a37cabc2-082e-49c3-8b68-2ce372729137",
   "metadata": {},
   "outputs": [],
   "source": [
    "def initialize_model():\n",
    "    model = Sequential()\n",
    "    model.add(layers.Dense(64, activation='relu', input_shape=(79,)))\n",
    "    model.add(layers.Dropout(0.5))\n",
    "    model.add(layers.Dense(32, activation='relu'))\n",
    "    model.add(layers.Dense(1, activation='sigmoid'))\n",
    "    \n",
    "    opt = tf.keras.optimizers.Adam(learning_rate=0.00035)\n",
    "    model.compile(optimizer=opt,\n",
    "              loss='binary_crossentropy',\n",
    "              metrics=['accuracy'])\n",
    "    \n",
    "    return model"
   ]
  },
  {
   "cell_type": "markdown",
   "id": "f4b2ff35-f389-48ea-815b-3eebf573fb32",
   "metadata": {},
   "source": [
    "#### Fitting the model"
   ]
  },
  {
   "cell_type": "code",
   "execution_count": 31,
   "id": "7b1f5a7c-cf95-4b14-840d-8ca16a1fbd5c",
   "metadata": {},
   "outputs": [
    {
     "data": {
      "text/plain": [
       "((6715, 79), (6715,))"
      ]
     },
     "execution_count": 31,
     "metadata": {},
     "output_type": "execute_result"
    }
   ],
   "source": [
    "X_train.shape, y_train.shape"
   ]
  },
  {
   "cell_type": "code",
   "execution_count": 73,
   "id": "bf3d24fd-70ff-4cdd-abe2-b99c69c55f7d",
   "metadata": {
    "tags": []
   },
   "outputs": [
    {
     "name": "stdout",
     "output_type": "stream",
     "text": [
      "Epoch 1/100\n",
      "210/210 [==============================] - 0s 738us/step - loss: 149.7721 - accuracy: 0.5148 - val_loss: 30.7070 - val_accuracy: 0.5730\n",
      "Epoch 2/100\n",
      "210/210 [==============================] - 0s 454us/step - loss: 68.0513 - accuracy: 0.5273 - val_loss: 10.3403 - val_accuracy: 0.6063\n",
      "Epoch 3/100\n",
      "210/210 [==============================] - 0s 450us/step - loss: 42.3145 - accuracy: 0.5631 - val_loss: 17.0254 - val_accuracy: 0.6081\n",
      "Epoch 4/100\n",
      "210/210 [==============================] - 0s 453us/step - loss: 29.0781 - accuracy: 0.6110 - val_loss: 7.2597 - val_accuracy: 0.7192\n",
      "Epoch 5/100\n",
      "210/210 [==============================] - 0s 464us/step - loss: 21.8064 - accuracy: 0.6287 - val_loss: 4.6380 - val_accuracy: 0.7561\n",
      "Epoch 6/100\n",
      "210/210 [==============================] - 0s 462us/step - loss: 16.0063 - accuracy: 0.6597 - val_loss: 4.6524 - val_accuracy: 0.7787\n",
      "Epoch 7/100\n",
      "210/210 [==============================] - 0s 459us/step - loss: 11.2728 - accuracy: 0.6873 - val_loss: 2.6554 - val_accuracy: 0.8051\n",
      "Epoch 8/100\n",
      "210/210 [==============================] - 0s 454us/step - loss: 8.9996 - accuracy: 0.7051 - val_loss: 2.0213 - val_accuracy: 0.8256\n",
      "Epoch 9/100\n",
      "210/210 [==============================] - 0s 454us/step - loss: 7.2842 - accuracy: 0.7117 - val_loss: 1.6097 - val_accuracy: 0.8332\n",
      "Epoch 10/100\n",
      "210/210 [==============================] - 0s 469us/step - loss: 5.5003 - accuracy: 0.7249 - val_loss: 1.2956 - val_accuracy: 0.8339\n",
      "Epoch 11/100\n",
      "210/210 [==============================] - 0s 457us/step - loss: 5.0440 - accuracy: 0.7217 - val_loss: 1.3139 - val_accuracy: 0.8384\n",
      "Epoch 12/100\n",
      "210/210 [==============================] - 0s 458us/step - loss: 3.7762 - accuracy: 0.7383 - val_loss: 1.4072 - val_accuracy: 0.8471\n",
      "Epoch 13/100\n",
      "210/210 [==============================] - 0s 456us/step - loss: 3.2299 - accuracy: 0.7376 - val_loss: 1.2305 - val_accuracy: 0.8332\n",
      "Epoch 14/100\n",
      "210/210 [==============================] - 0s 454us/step - loss: 2.8498 - accuracy: 0.7364 - val_loss: 1.2622 - val_accuracy: 0.8176\n",
      "Epoch 15/100\n",
      "210/210 [==============================] - 0s 452us/step - loss: 2.1418 - accuracy: 0.7459 - val_loss: 0.9917 - val_accuracy: 0.8363\n",
      "Epoch 16/100\n",
      "210/210 [==============================] - 0s 454us/step - loss: 1.8279 - accuracy: 0.7583 - val_loss: 0.7331 - val_accuracy: 0.8377\n",
      "Epoch 17/100\n",
      "210/210 [==============================] - 0s 465us/step - loss: 1.5534 - accuracy: 0.7562 - val_loss: 0.6601 - val_accuracy: 0.8280\n",
      "Epoch 18/100\n",
      "210/210 [==============================] - 0s 465us/step - loss: 1.3835 - accuracy: 0.7531 - val_loss: 0.7127 - val_accuracy: 0.7828\n",
      "Epoch 19/100\n",
      "210/210 [==============================] - 0s 461us/step - loss: 1.1384 - accuracy: 0.7558 - val_loss: 0.6179 - val_accuracy: 0.7773\n",
      "Epoch 20/100\n",
      "210/210 [==============================] - 0s 455us/step - loss: 0.9513 - accuracy: 0.7723 - val_loss: 0.5744 - val_accuracy: 0.7870\n",
      "Epoch 21/100\n",
      "210/210 [==============================] - 0s 451us/step - loss: 0.7955 - accuracy: 0.7757 - val_loss: 0.4638 - val_accuracy: 0.8287\n",
      "Epoch 22/100\n",
      "210/210 [==============================] - 0s 456us/step - loss: 0.7266 - accuracy: 0.7702 - val_loss: 0.4175 - val_accuracy: 0.8280\n",
      "Epoch 23/100\n",
      "210/210 [==============================] - 0s 462us/step - loss: 0.6236 - accuracy: 0.7806 - val_loss: 0.3870 - val_accuracy: 0.8440\n",
      "Epoch 24/100\n",
      "210/210 [==============================] - 0s 460us/step - loss: 0.6722 - accuracy: 0.7659 - val_loss: 0.4666 - val_accuracy: 0.7863\n",
      "Epoch 25/100\n",
      "210/210 [==============================] - 0s 480us/step - loss: 0.5741 - accuracy: 0.7628 - val_loss: 0.3790 - val_accuracy: 0.8475\n",
      "Epoch 26/100\n",
      "210/210 [==============================] - 0s 471us/step - loss: 0.5139 - accuracy: 0.7832 - val_loss: 0.4073 - val_accuracy: 0.8270\n",
      "Epoch 27/100\n",
      "210/210 [==============================] - 0s 456us/step - loss: 0.5803 - accuracy: 0.7815 - val_loss: 0.3811 - val_accuracy: 0.8360\n",
      "Epoch 28/100\n",
      "210/210 [==============================] - 0s 554us/step - loss: 0.4822 - accuracy: 0.7838 - val_loss: 0.3875 - val_accuracy: 0.8409\n",
      "Epoch 29/100\n",
      "210/210 [==============================] - 0s 463us/step - loss: 0.4867 - accuracy: 0.7952 - val_loss: 0.3796 - val_accuracy: 0.8416\n",
      "Epoch 30/100\n",
      "210/210 [==============================] - 0s 458us/step - loss: 0.4710 - accuracy: 0.7940 - val_loss: 0.3529 - val_accuracy: 0.8607\n",
      "Epoch 31/100\n",
      "210/210 [==============================] - 0s 456us/step - loss: 0.5133 - accuracy: 0.8066 - val_loss: 0.3671 - val_accuracy: 0.8471\n",
      "Epoch 32/100\n",
      "210/210 [==============================] - 0s 458us/step - loss: 0.4573 - accuracy: 0.8003 - val_loss: 0.3371 - val_accuracy: 0.8641\n",
      "Epoch 33/100\n",
      "210/210 [==============================] - 0s 454us/step - loss: 0.4505 - accuracy: 0.8054 - val_loss: 0.3460 - val_accuracy: 0.8558\n",
      "Epoch 34/100\n",
      "210/210 [==============================] - 0s 460us/step - loss: 0.4425 - accuracy: 0.8115 - val_loss: 0.3451 - val_accuracy: 0.8621\n",
      "Epoch 35/100\n",
      "210/210 [==============================] - 0s 474us/step - loss: 0.4427 - accuracy: 0.8045 - val_loss: 0.3296 - val_accuracy: 0.8669\n",
      "Epoch 36/100\n",
      "210/210 [==============================] - 0s 459us/step - loss: 0.4242 - accuracy: 0.8100 - val_loss: 0.3211 - val_accuracy: 0.8690\n",
      "Epoch 37/100\n",
      "210/210 [==============================] - 0s 448us/step - loss: 0.4288 - accuracy: 0.8110 - val_loss: 0.3336 - val_accuracy: 0.8641\n",
      "Epoch 38/100\n",
      "210/210 [==============================] - 0s 457us/step - loss: 0.4274 - accuracy: 0.8133 - val_loss: 0.3273 - val_accuracy: 0.8638\n",
      "Epoch 39/100\n",
      "210/210 [==============================] - 0s 454us/step - loss: 0.4557 - accuracy: 0.8250 - val_loss: 0.3310 - val_accuracy: 0.8746\n",
      "Epoch 40/100\n",
      "210/210 [==============================] - 0s 455us/step - loss: 0.4201 - accuracy: 0.8146 - val_loss: 0.3262 - val_accuracy: 0.8732\n",
      "Epoch 41/100\n",
      "210/210 [==============================] - 0s 461us/step - loss: 0.4416 - accuracy: 0.8183 - val_loss: 0.3235 - val_accuracy: 0.8777\n",
      "Epoch 42/100\n",
      "210/210 [==============================] - 0s 463us/step - loss: 0.4078 - accuracy: 0.8247 - val_loss: 0.3239 - val_accuracy: 0.8749\n",
      "Epoch 43/100\n",
      "210/210 [==============================] - 0s 463us/step - loss: 0.4075 - accuracy: 0.8241 - val_loss: 0.3178 - val_accuracy: 0.8798\n",
      "Epoch 44/100\n",
      "210/210 [==============================] - 0s 453us/step - loss: 0.3907 - accuracy: 0.8383 - val_loss: 0.3253 - val_accuracy: 0.8784\n",
      "Epoch 45/100\n",
      "210/210 [==============================] - 0s 459us/step - loss: 0.3881 - accuracy: 0.8404 - val_loss: 0.3267 - val_accuracy: 0.8822\n",
      "Epoch 46/100\n",
      "210/210 [==============================] - 0s 456us/step - loss: 0.3720 - accuracy: 0.8435 - val_loss: 0.3230 - val_accuracy: 0.8784\n",
      "Epoch 47/100\n",
      "210/210 [==============================] - 0s 461us/step - loss: 0.3801 - accuracy: 0.8386 - val_loss: 0.3154 - val_accuracy: 0.8829\n",
      "Epoch 48/100\n",
      "210/210 [==============================] - 0s 459us/step - loss: 0.3980 - accuracy: 0.8372 - val_loss: 0.3509 - val_accuracy: 0.8808\n",
      "Epoch 49/100\n",
      "210/210 [==============================] - 0s 464us/step - loss: 0.3678 - accuracy: 0.8471 - val_loss: 0.3094 - val_accuracy: 0.8836\n",
      "Epoch 50/100\n",
      "210/210 [==============================] - 0s 461us/step - loss: 0.3593 - accuracy: 0.8485 - val_loss: 0.3124 - val_accuracy: 0.8833\n",
      "Epoch 51/100\n",
      "210/210 [==============================] - 0s 458us/step - loss: 0.3689 - accuracy: 0.8430 - val_loss: 0.3101 - val_accuracy: 0.8808\n",
      "Epoch 52/100\n",
      "210/210 [==============================] - 0s 457us/step - loss: 0.3502 - accuracy: 0.8520 - val_loss: 0.3076 - val_accuracy: 0.8902\n",
      "Epoch 53/100\n",
      "210/210 [==============================] - 0s 549us/step - loss: 0.3610 - accuracy: 0.8472 - val_loss: 0.3195 - val_accuracy: 0.8860\n",
      "Epoch 54/100\n",
      "210/210 [==============================] - 0s 465us/step - loss: 0.3434 - accuracy: 0.8561 - val_loss: 0.3104 - val_accuracy: 0.8933\n",
      "Epoch 55/100\n",
      "210/210 [==============================] - 0s 463us/step - loss: 0.3417 - accuracy: 0.8585 - val_loss: 0.2929 - val_accuracy: 0.8905\n",
      "Epoch 56/100\n",
      "210/210 [==============================] - 0s 460us/step - loss: 0.3450 - accuracy: 0.8503 - val_loss: 0.3196 - val_accuracy: 0.8874\n",
      "Epoch 57/100\n",
      "210/210 [==============================] - 0s 463us/step - loss: 0.3468 - accuracy: 0.8509 - val_loss: 0.2973 - val_accuracy: 0.8937\n",
      "Epoch 58/100\n",
      "210/210 [==============================] - 0s 463us/step - loss: 0.3531 - accuracy: 0.8582 - val_loss: 0.2859 - val_accuracy: 0.9003\n",
      "Epoch 59/100\n",
      "210/210 [==============================] - 0s 469us/step - loss: 0.3442 - accuracy: 0.8566 - val_loss: 0.3252 - val_accuracy: 0.8777\n",
      "Epoch 60/100\n",
      "210/210 [==============================] - 0s 457us/step - loss: 0.3309 - accuracy: 0.8622 - val_loss: 0.2978 - val_accuracy: 0.8975\n",
      "Epoch 61/100\n",
      "210/210 [==============================] - 0s 453us/step - loss: 0.3268 - accuracy: 0.8627 - val_loss: 0.3008 - val_accuracy: 0.9006\n",
      "Epoch 62/100\n",
      "210/210 [==============================] - 0s 457us/step - loss: 0.3259 - accuracy: 0.8631 - val_loss: 0.2866 - val_accuracy: 0.9027\n",
      "Epoch 63/100\n",
      "210/210 [==============================] - 0s 460us/step - loss: 0.3340 - accuracy: 0.8570 - val_loss: 0.3057 - val_accuracy: 0.8937\n",
      "Epoch 64/100\n",
      "210/210 [==============================] - 0s 462us/step - loss: 0.3495 - accuracy: 0.8605 - val_loss: 0.2932 - val_accuracy: 0.9034\n",
      "Epoch 65/100\n",
      "210/210 [==============================] - 0s 461us/step - loss: 0.3402 - accuracy: 0.8487 - val_loss: 0.3296 - val_accuracy: 0.8892\n",
      "Epoch 66/100\n",
      "210/210 [==============================] - 0s 463us/step - loss: 0.3270 - accuracy: 0.8600 - val_loss: 0.3255 - val_accuracy: 0.9006\n",
      "Epoch 67/100\n",
      "210/210 [==============================] - 0s 459us/step - loss: 0.3146 - accuracy: 0.8633 - val_loss: 0.2652 - val_accuracy: 0.9027\n",
      "Epoch 68/100\n",
      "210/210 [==============================] - 0s 463us/step - loss: 0.3145 - accuracy: 0.8658 - val_loss: 0.2829 - val_accuracy: 0.9027\n",
      "Epoch 69/100\n",
      "210/210 [==============================] - 0s 465us/step - loss: 0.3200 - accuracy: 0.8666 - val_loss: 0.2815 - val_accuracy: 0.9079\n",
      "Epoch 70/100\n",
      "210/210 [==============================] - 0s 464us/step - loss: 0.3181 - accuracy: 0.8614 - val_loss: 0.2943 - val_accuracy: 0.9027\n",
      "Epoch 71/100\n",
      "210/210 [==============================] - 0s 463us/step - loss: 0.3037 - accuracy: 0.8701 - val_loss: 0.3004 - val_accuracy: 0.9003\n",
      "Epoch 72/100\n",
      "210/210 [==============================] - 0s 463us/step - loss: 0.3058 - accuracy: 0.8707 - val_loss: 0.2659 - val_accuracy: 0.9135\n",
      "Epoch 73/100\n",
      "210/210 [==============================] - 0s 462us/step - loss: 0.3072 - accuracy: 0.8678 - val_loss: 0.2582 - val_accuracy: 0.9093\n",
      "Epoch 74/100\n",
      "210/210 [==============================] - 0s 459us/step - loss: 0.3011 - accuracy: 0.8712 - val_loss: 0.2667 - val_accuracy: 0.9065\n",
      "Epoch 75/100\n",
      "210/210 [==============================] - 0s 462us/step - loss: 0.3017 - accuracy: 0.8713 - val_loss: 0.2579 - val_accuracy: 0.9117\n",
      "Epoch 76/100\n",
      "210/210 [==============================] - 0s 471us/step - loss: 0.3055 - accuracy: 0.8706 - val_loss: 0.2765 - val_accuracy: 0.9055\n",
      "Epoch 77/100\n",
      "210/210 [==============================] - 0s 469us/step - loss: 0.2986 - accuracy: 0.8739 - val_loss: 0.2597 - val_accuracy: 0.9142\n",
      "Epoch 78/100\n",
      "210/210 [==============================] - 0s 460us/step - loss: 0.2928 - accuracy: 0.8792 - val_loss: 0.2355 - val_accuracy: 0.9124\n",
      "Epoch 79/100\n",
      "210/210 [==============================] - 0s 463us/step - loss: 0.2910 - accuracy: 0.8752 - val_loss: 0.2353 - val_accuracy: 0.9124\n",
      "Epoch 80/100\n",
      "210/210 [==============================] - 0s 467us/step - loss: 0.3007 - accuracy: 0.8751 - val_loss: 0.2554 - val_accuracy: 0.9086\n",
      "Epoch 81/100\n",
      "210/210 [==============================] - 0s 465us/step - loss: 0.2952 - accuracy: 0.8755 - val_loss: 0.2496 - val_accuracy: 0.9152\n",
      "Epoch 82/100\n",
      "210/210 [==============================] - 0s 469us/step - loss: 0.2898 - accuracy: 0.8755 - val_loss: 0.2629 - val_accuracy: 0.9107\n",
      "Epoch 83/100\n",
      "210/210 [==============================] - 0s 462us/step - loss: 0.2861 - accuracy: 0.8761 - val_loss: 0.2507 - val_accuracy: 0.9173\n",
      "Epoch 84/100\n",
      "210/210 [==============================] - 0s 463us/step - loss: 0.2885 - accuracy: 0.8800 - val_loss: 0.2727 - val_accuracy: 0.9058\n",
      "Epoch 85/100\n",
      "210/210 [==============================] - 0s 460us/step - loss: 0.2829 - accuracy: 0.8782 - val_loss: 0.2446 - val_accuracy: 0.9100\n",
      "Epoch 86/100\n",
      "210/210 [==============================] - 0s 474us/step - loss: 0.2827 - accuracy: 0.8785 - val_loss: 0.2795 - val_accuracy: 0.9135\n",
      "Epoch 87/100\n",
      "210/210 [==============================] - 0s 463us/step - loss: 0.2930 - accuracy: 0.8752 - val_loss: 0.2557 - val_accuracy: 0.9121\n",
      "Epoch 88/100\n",
      "210/210 [==============================] - 0s 456us/step - loss: 0.2829 - accuracy: 0.8818 - val_loss: 0.2431 - val_accuracy: 0.9159\n",
      "Epoch 89/100\n",
      "210/210 [==============================] - 0s 546us/step - loss: 0.2887 - accuracy: 0.8761 - val_loss: 0.2529 - val_accuracy: 0.9100\n"
     ]
    }
   ],
   "source": [
    "model = initialize_model()\n",
    "\n",
    "es = EarlyStopping(monitor='val_loss', patience=10, restore_best_weights=True)\n",
    "\n",
    "history = model.fit(X_train, y_train, \n",
    "                    epochs=100, batch_size=32, \n",
    "                    verbose=1, callbacks=[es], \n",
    "                    validation_data=(X_test, y_test))"
   ]
  },
  {
   "cell_type": "markdown",
   "id": "796498e8-d88e-4c05-a2c4-6012074fcb0e",
   "metadata": {},
   "source": [
    "#### Testing the model"
   ]
  },
  {
   "cell_type": "code",
   "execution_count": 75,
   "id": "8ad4dec7-ae0b-404b-a410-03a70b2d6b1c",
   "metadata": {},
   "outputs": [
    {
     "name": "stdout",
     "output_type": "stream",
     "text": [
      "90/90 [==============================] - 0s 265us/step - loss: 0.2353 - accuracy: 0.9124\n"
     ]
    },
    {
     "data": {
      "text/plain": [
       "0.9124391674995422"
      ]
     },
     "execution_count": 75,
     "metadata": {},
     "output_type": "execute_result"
    }
   ],
   "source": [
    "test_accuracy = model.evaluate(X_test, y_test)[1]\n",
    "test_accuracy"
   ]
  },
  {
   "cell_type": "markdown",
   "id": "604a5b75-b77a-4982-a8da-34bbddf3569a",
   "metadata": {},
   "source": [
    "#### Save the model"
   ]
  },
  {
   "cell_type": "code",
   "execution_count": 76,
   "id": "fd57b801-818a-4934-bc05-a259c1e87993",
   "metadata": {},
   "outputs": [],
   "source": [
    "from tensorflow.keras.models import load_model, save_model\n",
    "\n",
    "save_model(model, f'../saved_models/model_{int(round(test_accuracy, 2) * 100)}.h5')"
   ]
  }
 ],
 "metadata": {
  "kernelspec": {
   "display_name": "Python 3 (ipykernel)",
   "language": "python",
   "name": "python3"
  },
  "language_info": {
   "codemirror_mode": {
    "name": "ipython",
    "version": 3
   },
   "file_extension": ".py",
   "mimetype": "text/x-python",
   "name": "python",
   "nbconvert_exporter": "python",
   "pygments_lexer": "ipython3",
   "version": "3.10.6"
  }
 },
 "nbformat": 4,
 "nbformat_minor": 5
}
