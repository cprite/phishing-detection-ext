{
 "cells": [
  {
   "cell_type": "markdown",
   "id": "a4aa89d1-ad77-4365-8064-0c4a6cba2304",
   "metadata": {},
   "source": [
    "#### Importing packages"
   ]
  },
  {
   "cell_type": "code",
   "execution_count": 9,
   "id": "b93401cb-b9a1-4ff6-a944-c1007678fa04",
   "metadata": {},
   "outputs": [],
   "source": [
    "import pandas as pd\n",
    "import numpy as np\n",
    "import matplotlib.pyplot as plt\n",
    "import seaborn as sns\n",
    "import re\n",
    "\n",
    "import tensorflow as tf\n",
    "from tensorflow.keras import Sequential\n",
    "from sklearn.model_selection import train_test_split\n",
    "from sklearn.preprocessing import StandardScaler\n",
    "from tensorflow.keras.regularizers import l2\n",
    "from tensorflow.keras.models import load_model, save_model\n",
    "from sklearn.model_selection import StratifiedKFold\n",
    "from sklearn.metrics import accuracy_score\n",
    "from sklearn.model_selection import KFold\n",
    "from keras.wrappers.scikit_learn import KerasClassifier  # Import KerasClassifier\n",
    "from sklearn.model_selection import cross_validate\n",
    "from tensorflow.keras import datasets, layers, models\n",
    "from tensorflow.keras.callbacks import EarlyStopping\n",
    "from sklearn.model_selection import cross_validate"
   ]
  },
  {
   "cell_type": "markdown",
   "id": "4d2a7d60-a3be-48fd-821f-58358210c5f1",
   "metadata": {},
   "source": [
    "#### Upload dataset"
   ]
  },
  {
   "cell_type": "code",
   "execution_count": 6,
   "id": "7503fd9d-24da-4722-b2c4-ae1c6e481021",
   "metadata": {},
   "outputs": [
    {
     "data": {
      "text/html": [
       "<div>\n",
       "<style scoped>\n",
       "    .dataframe tbody tr th:only-of-type {\n",
       "        vertical-align: middle;\n",
       "    }\n",
       "\n",
       "    .dataframe tbody tr th {\n",
       "        vertical-align: top;\n",
       "    }\n",
       "\n",
       "    .dataframe thead th {\n",
       "        text-align: right;\n",
       "    }\n",
       "</style>\n",
       "<table border=\"1\" class=\"dataframe\">\n",
       "  <thead>\n",
       "    <tr style=\"text-align: right;\">\n",
       "      <th></th>\n",
       "      <th>domain</th>\n",
       "      <th>label</th>\n",
       "    </tr>\n",
       "  </thead>\n",
       "  <tbody>\n",
       "    <tr>\n",
       "      <th>0</th>\n",
       "      <td>www.voting-yahoo.com</td>\n",
       "      <td>1</td>\n",
       "    </tr>\n",
       "    <tr>\n",
       "      <th>1</th>\n",
       "      <td>www.zvon.org/xxl/WSDL1.1/Output/index.html</td>\n",
       "      <td>0</td>\n",
       "    </tr>\n",
       "    <tr>\n",
       "      <th>2</th>\n",
       "      <td>tecportais.com/file-security-update-infonfmati...</td>\n",
       "      <td>1</td>\n",
       "    </tr>\n",
       "    <tr>\n",
       "      <th>3</th>\n",
       "      <td>bima.astro.umd.edu/nemo/linuxastro/</td>\n",
       "      <td>0</td>\n",
       "    </tr>\n",
       "    <tr>\n",
       "      <th>4</th>\n",
       "      <td>huarui-tec.com/js/?us.battle.net/login/en/?ref...</td>\n",
       "      <td>1</td>\n",
       "    </tr>\n",
       "  </tbody>\n",
       "</table>\n",
       "</div>"
      ],
      "text/plain": [
       "                                              domain  label\n",
       "0                               www.voting-yahoo.com      1\n",
       "1         www.zvon.org/xxl/WSDL1.1/Output/index.html      0\n",
       "2  tecportais.com/file-security-update-infonfmati...      1\n",
       "3                bima.astro.umd.edu/nemo/linuxastro/      0\n",
       "4  huarui-tec.com/js/?us.battle.net/login/en/?ref...      1"
      ]
     },
     "execution_count": 6,
     "metadata": {},
     "output_type": "execute_result"
    }
   ],
   "source": [
    "data = pd.read_csv('../raw_data/validation_dataset_2.csv')[['domain', 'label']]\n",
    "data.head()"
   ]
  },
  {
   "cell_type": "markdown",
   "id": "a547ebe0-e19a-48a1-9a6c-421e02f58a6d",
   "metadata": {},
   "source": [
    "#### Preprocessing data"
   ]
  },
  {
   "cell_type": "markdown",
   "id": "ec52ac89-6fb8-48a7-914a-02417b4ade97",
   "metadata": {},
   "source": [
    "##### Compute features"
   ]
  },
  {
   "cell_type": "code",
   "execution_count": 10,
   "id": "8dfede35-bb7d-45d0-a71b-a2d85d3a432c",
   "metadata": {},
   "outputs": [],
   "source": [
    "file_path = f'../libs/features_comp.py'\n",
    "with open(file_path, 'r') as file:\n",
    "    content = file.read()\n",
    "    pattern = r'def (\\w+)\\('\n",
    "    functions = re.findall(pattern, content)"
   ]
  },
  {
   "cell_type": "code",
   "execution_count": 16,
   "id": "fbabf527-05da-452e-8a67-541e5241ce4d",
   "metadata": {
    "tags": []
   },
   "outputs": [
    {
     "ename": "KeyError",
     "evalue": "'length_url'",
     "output_type": "error",
     "traceback": [
      "\u001b[0;31m---------------------------------------------------------------------------\u001b[0m",
      "\u001b[0;31mKeyError\u001b[0m                                  Traceback (most recent call last)",
      "Cell \u001b[0;32mIn [16], line 5\u001b[0m\n\u001b[1;32m      2\u001b[0m features \u001b[38;5;241m=\u001b[39m []\n\u001b[1;32m      4\u001b[0m \u001b[38;5;28;01mfor\u001b[39;00m url \u001b[38;5;129;01min\u001b[39;00m \u001b[38;5;28mlist\u001b[39m(data[\u001b[38;5;124m'\u001b[39m\u001b[38;5;124mdomain\u001b[39m\u001b[38;5;124m'\u001b[39m]):\n\u001b[0;32m----> 5\u001b[0m     result \u001b[38;5;241m=\u001b[39m \u001b[38;5;28;43mglobals\u001b[39;49m\u001b[43m(\u001b[49m\u001b[43m)\u001b[49m\u001b[43m[\u001b[49m\u001b[43mfunction\u001b[49m\u001b[43m]\u001b[49m(url)\n\u001b[1;32m      7\u001b[0m     \u001b[38;5;28;01mif\u001b[39;00m result \u001b[38;5;241m==\u001b[39m \u001b[38;5;28;01mTrue\u001b[39;00m:\n\u001b[1;32m      8\u001b[0m         result \u001b[38;5;241m=\u001b[39m \u001b[38;5;241m1\u001b[39m\n",
      "\u001b[0;31mKeyError\u001b[0m: 'length_url'"
     ]
    }
   ],
   "source": [
    "for function in functions:\n",
    "    features = []\n",
    "    \n",
    "    for url in list(data['domain']):\n",
    "        result = globals()[function](url)\n",
    "        \n",
    "        if result == True:\n",
    "            result = 1\n",
    "        elif result == False or result == None:\n",
    "            result = 0\n",
    "            \n",
    "        features.append(result)\n",
    "        \n",
    "    data[function] = features"
   ]
  },
  {
   "cell_type": "markdown",
   "id": "4607b78b-1c4e-4bb0-8d53-9f2819e00a17",
   "metadata": {},
   "source": [
    "#### Define X and y"
   ]
  },
  {
   "cell_type": "raw",
   "id": "2b614d23-51fe-4f09-b362-f7144c394438",
   "metadata": {},
   "source": [
    "X = data.drop(columns=['url', 'status'])\n",
    "y = data['status']"
   ]
  },
  {
   "cell_type": "markdown",
   "id": "94cd12cf-5f2c-4f41-ac58-2149faacc7d6",
   "metadata": {},
   "source": [
    "#### Split data on train and test sets"
   ]
  },
  {
   "cell_type": "code",
   "execution_count": 73,
   "id": "e9f4fe8a-0a64-4035-9a22-ff4d0b6b02e4",
   "metadata": {},
   "outputs": [],
   "source": [
    "X_train, X_test, y_train, y_test = train_test_split(X, y, test_size=0.5, \n",
    "                                                    random_state=42, stratify=y)"
   ]
  },
  {
   "cell_type": "markdown",
   "id": "eea8fe91-3b51-4715-bd11-36ffe813f5ce",
   "metadata": {},
   "source": [
    "#### Initialize the model"
   ]
  },
  {
   "cell_type": "code",
   "execution_count": 84,
   "id": "a37cabc2-082e-49c3-8b68-2ce372729137",
   "metadata": {},
   "outputs": [],
   "source": [
    "def initialize_model():\n",
    "    model = Sequential()\n",
    "    model.add(layers.Dense(64, activation='relu', input_shape=(79,)))\n",
    "    model.add(layers.Dropout(0.5))\n",
    "    model.add(layers.Dense(32, activation='relu'))\n",
    "    model.add(layers.Dense(1, activation='sigmoid'))\n",
    "    \n",
    "    opt = tf.keras.optimizers.Adam(learning_rate=0.00085)\n",
    "    model.compile(optimizer=opt,\n",
    "              loss='binary_crossentropy',\n",
    "              metrics=['accuracy'])\n",
    "    \n",
    "    return model"
   ]
  },
  {
   "cell_type": "markdown",
   "id": "796498e8-d88e-4c05-a2c4-6012074fcb0e",
   "metadata": {},
   "source": [
    "#### Fitting the model"
   ]
  },
  {
   "cell_type": "code",
   "execution_count": 85,
   "id": "c767928f-d9f6-42d6-8582-644d6044d819",
   "metadata": {
    "collapsed": true,
    "jupyter": {
     "outputs_hidden": true
    },
    "tags": []
   },
   "outputs": [
    {
     "name": "stdout",
     "output_type": "stream",
     "text": [
      "Epoch 1/100\n",
      "150/150 [==============================] - 0s 1ms/step - loss: 100.7616 - accuracy: 0.5146 - val_loss: 40.8317 - val_accuracy: 0.4959\n",
      "Epoch 2/100\n",
      "150/150 [==============================] - 0s 588us/step - loss: 27.6787 - accuracy: 0.5542 - val_loss: 29.1763 - val_accuracy: 0.5039\n",
      "Epoch 3/100\n",
      "150/150 [==============================] - 0s 598us/step - loss: 16.0831 - accuracy: 0.5776 - val_loss: 3.6319 - val_accuracy: 0.6218\n",
      "Epoch 4/100\n",
      "150/150 [==============================] - 0s 599us/step - loss: 8.3964 - accuracy: 0.6255 - val_loss: 3.0598 - val_accuracy: 0.6715\n",
      "Epoch 5/100\n",
      "150/150 [==============================] - 0s 600us/step - loss: 5.1053 - accuracy: 0.6687 - val_loss: 2.2662 - val_accuracy: 0.6785\n",
      "Epoch 6/100\n",
      "150/150 [==============================] - 0s 733us/step - loss: 3.3966 - accuracy: 0.6783 - val_loss: 1.1315 - val_accuracy: 0.7940\n",
      "Epoch 7/100\n",
      "150/150 [==============================] - 0s 610us/step - loss: 3.0077 - accuracy: 0.6883 - val_loss: 1.0380 - val_accuracy: 0.7217\n",
      "Epoch 8/100\n",
      "150/150 [==============================] - 0s 602us/step - loss: 2.0234 - accuracy: 0.7006 - val_loss: 0.7023 - val_accuracy: 0.7753\n",
      "Epoch 9/100\n",
      "150/150 [==============================] - 0s 594us/step - loss: 1.5108 - accuracy: 0.7216 - val_loss: 0.5780 - val_accuracy: 0.8176\n",
      "Epoch 10/100\n",
      "150/150 [==============================] - 0s 592us/step - loss: 1.3733 - accuracy: 0.7129 - val_loss: 0.4861 - val_accuracy: 0.8261\n",
      "Epoch 11/100\n",
      "150/150 [==============================] - 0s 597us/step - loss: 1.0436 - accuracy: 0.7296 - val_loss: 0.6925 - val_accuracy: 0.7947\n",
      "Epoch 12/100\n",
      "150/150 [==============================] - 0s 597us/step - loss: 0.9777 - accuracy: 0.7408 - val_loss: 0.5100 - val_accuracy: 0.7915\n",
      "Epoch 13/100\n",
      "150/150 [==============================] - 0s 592us/step - loss: 0.8294 - accuracy: 0.7400 - val_loss: 0.5921 - val_accuracy: 0.7488\n",
      "Epoch 14/100\n",
      "150/150 [==============================] - 0s 600us/step - loss: 0.7437 - accuracy: 0.7623 - val_loss: 0.4744 - val_accuracy: 0.8026\n",
      "Epoch 15/100\n",
      "150/150 [==============================] - 0s 592us/step - loss: 0.6559 - accuracy: 0.7440 - val_loss: 0.5087 - val_accuracy: 0.7749\n",
      "Epoch 16/100\n",
      "150/150 [==============================] - 0s 601us/step - loss: 0.6307 - accuracy: 0.7477 - val_loss: 0.4632 - val_accuracy: 0.8191\n",
      "Epoch 17/100\n",
      "150/150 [==============================] - 0s 604us/step - loss: 0.7881 - accuracy: 0.7663 - val_loss: 0.4316 - val_accuracy: 0.8216\n",
      "Epoch 18/100\n",
      "150/150 [==============================] - 0s 600us/step - loss: 0.5469 - accuracy: 0.7590 - val_loss: 0.5461 - val_accuracy: 0.7576\n",
      "Epoch 19/100\n",
      "150/150 [==============================] - 0s 604us/step - loss: 0.5076 - accuracy: 0.7738 - val_loss: 0.4285 - val_accuracy: 0.8218\n",
      "Epoch 20/100\n",
      "150/150 [==============================] - 0s 593us/step - loss: 0.5352 - accuracy: 0.7665 - val_loss: 0.4933 - val_accuracy: 0.7799\n",
      "Epoch 21/100\n",
      "150/150 [==============================] - 0s 612us/step - loss: 0.5283 - accuracy: 0.7654 - val_loss: 0.4250 - val_accuracy: 0.8241\n",
      "Epoch 22/100\n",
      "150/150 [==============================] - 0s 612us/step - loss: 0.5123 - accuracy: 0.7850 - val_loss: 0.4419 - val_accuracy: 0.8186\n",
      "Epoch 23/100\n",
      "150/150 [==============================] - 0s 596us/step - loss: 0.4779 - accuracy: 0.7817 - val_loss: 0.4102 - val_accuracy: 0.8332\n",
      "Epoch 24/100\n",
      "150/150 [==============================] - 0s 588us/step - loss: 0.4622 - accuracy: 0.7861 - val_loss: 0.4135 - val_accuracy: 0.8422\n",
      "Epoch 25/100\n",
      "150/150 [==============================] - 0s 590us/step - loss: 0.4460 - accuracy: 0.7963 - val_loss: 0.4246 - val_accuracy: 0.8416\n",
      "Epoch 26/100\n",
      "150/150 [==============================] - 0s 590us/step - loss: 0.4352 - accuracy: 0.8023 - val_loss: 0.4511 - val_accuracy: 0.8191\n",
      "Epoch 27/100\n",
      "150/150 [==============================] - 0s 595us/step - loss: 0.4552 - accuracy: 0.7946 - val_loss: 0.5334 - val_accuracy: 0.7826\n",
      "Epoch 28/100\n",
      "150/150 [==============================] - 0s 594us/step - loss: 0.4439 - accuracy: 0.8009 - val_loss: 0.4817 - val_accuracy: 0.8034\n",
      "Epoch 29/100\n",
      "150/150 [==============================] - 0s 607us/step - loss: 0.4252 - accuracy: 0.8040 - val_loss: 0.3756 - val_accuracy: 0.8626\n",
      "Epoch 30/100\n",
      "150/150 [==============================] - 0s 595us/step - loss: 0.5039 - accuracy: 0.8103 - val_loss: 0.3989 - val_accuracy: 0.8501\n",
      "Epoch 31/100\n",
      "150/150 [==============================] - 0s 598us/step - loss: 0.5206 - accuracy: 0.7959 - val_loss: 0.4253 - val_accuracy: 0.8336\n",
      "Epoch 32/100\n",
      "150/150 [==============================] - 0s 611us/step - loss: 0.4095 - accuracy: 0.8101 - val_loss: 0.4100 - val_accuracy: 0.8547\n",
      "Epoch 33/100\n",
      "150/150 [==============================] - 0s 597us/step - loss: 0.4071 - accuracy: 0.8096 - val_loss: 0.4446 - val_accuracy: 0.8330\n",
      "Epoch 34/100\n",
      "150/150 [==============================] - 0s 604us/step - loss: 0.4216 - accuracy: 0.8034 - val_loss: 0.4112 - val_accuracy: 0.8578\n",
      "Epoch 35/100\n",
      "150/150 [==============================] - 0s 590us/step - loss: 0.4018 - accuracy: 0.8155 - val_loss: 0.4065 - val_accuracy: 0.8491\n",
      "Epoch 36/100\n",
      "150/150 [==============================] - 0s 593us/step - loss: 0.4245 - accuracy: 0.7980 - val_loss: 0.4334 - val_accuracy: 0.8376\n",
      "Epoch 37/100\n",
      "150/150 [==============================] - 0s 601us/step - loss: 0.3916 - accuracy: 0.8219 - val_loss: 0.4176 - val_accuracy: 0.8274\n",
      "Epoch 38/100\n",
      "150/150 [==============================] - 0s 691us/step - loss: 0.4007 - accuracy: 0.8209 - val_loss: 0.4036 - val_accuracy: 0.8697\n",
      "Epoch 39/100\n",
      "150/150 [==============================] - 0s 611us/step - loss: 0.3983 - accuracy: 0.8180 - val_loss: 0.3706 - val_accuracy: 0.8653\n",
      "Epoch 40/100\n",
      "150/150 [==============================] - 0s 600us/step - loss: 0.4120 - accuracy: 0.8075 - val_loss: 0.4189 - val_accuracy: 0.8451\n",
      "Epoch 41/100\n",
      "150/150 [==============================] - 0s 598us/step - loss: 0.3995 - accuracy: 0.8184 - val_loss: 0.3837 - val_accuracy: 0.8503\n",
      "Epoch 42/100\n",
      "150/150 [==============================] - 0s 607us/step - loss: 0.3727 - accuracy: 0.8307 - val_loss: 0.3815 - val_accuracy: 0.8676\n",
      "Epoch 43/100\n",
      "150/150 [==============================] - 0s 615us/step - loss: 0.3702 - accuracy: 0.8249 - val_loss: 0.3788 - val_accuracy: 0.8724\n",
      "Epoch 44/100\n",
      "150/150 [==============================] - 0s 616us/step - loss: 0.3833 - accuracy: 0.8230 - val_loss: 0.4006 - val_accuracy: 0.8514\n",
      "Epoch 45/100\n",
      "150/150 [==============================] - 0s 596us/step - loss: 0.3646 - accuracy: 0.8317 - val_loss: 0.3962 - val_accuracy: 0.8455\n",
      "Epoch 46/100\n",
      "150/150 [==============================] - 0s 592us/step - loss: 0.3739 - accuracy: 0.8286 - val_loss: 0.3576 - val_accuracy: 0.8705\n",
      "Epoch 47/100\n",
      "150/150 [==============================] - 0s 610us/step - loss: 0.3653 - accuracy: 0.8221 - val_loss: 0.3951 - val_accuracy: 0.8657\n",
      "Epoch 48/100\n",
      "150/150 [==============================] - 0s 604us/step - loss: 0.3704 - accuracy: 0.8290 - val_loss: 0.4089 - val_accuracy: 0.8758\n",
      "Epoch 49/100\n",
      "150/150 [==============================] - 0s 612us/step - loss: 0.3634 - accuracy: 0.8207 - val_loss: 0.3719 - val_accuracy: 0.8818\n",
      "Epoch 50/100\n",
      "150/150 [==============================] - 0s 602us/step - loss: 0.3802 - accuracy: 0.8263 - val_loss: 0.3615 - val_accuracy: 0.8883\n",
      "Epoch 51/100\n",
      "150/150 [==============================] - 0s 613us/step - loss: 0.3647 - accuracy: 0.8409 - val_loss: 0.3428 - val_accuracy: 0.8864\n",
      "Epoch 52/100\n",
      "150/150 [==============================] - 0s 611us/step - loss: 0.3670 - accuracy: 0.8413 - val_loss: 0.3687 - val_accuracy: 0.8683\n",
      "Epoch 53/100\n",
      "150/150 [==============================] - 0s 616us/step - loss: 0.3531 - accuracy: 0.8294 - val_loss: 0.3495 - val_accuracy: 0.8797\n",
      "Epoch 54/100\n",
      "150/150 [==============================] - 0s 611us/step - loss: 0.3564 - accuracy: 0.8378 - val_loss: 0.3322 - val_accuracy: 0.8853\n",
      "Epoch 55/100\n",
      "150/150 [==============================] - 0s 604us/step - loss: 0.3565 - accuracy: 0.8342 - val_loss: 0.3240 - val_accuracy: 0.8845\n",
      "Epoch 56/100\n",
      "150/150 [==============================] - 0s 603us/step - loss: 0.3443 - accuracy: 0.8478 - val_loss: 0.3109 - val_accuracy: 0.8906\n",
      "Epoch 57/100\n",
      "150/150 [==============================] - 0s 611us/step - loss: 0.3533 - accuracy: 0.8374 - val_loss: 0.3611 - val_accuracy: 0.8803\n",
      "Epoch 58/100\n",
      "150/150 [==============================] - 0s 616us/step - loss: 0.4040 - accuracy: 0.8505 - val_loss: 0.3419 - val_accuracy: 0.8893\n",
      "Epoch 59/100\n",
      "150/150 [==============================] - 0s 605us/step - loss: 0.3398 - accuracy: 0.8538 - val_loss: 0.3473 - val_accuracy: 0.8745\n",
      "Epoch 60/100\n",
      "150/150 [==============================] - 0s 684us/step - loss: 0.3318 - accuracy: 0.8465 - val_loss: 0.3197 - val_accuracy: 0.8922\n",
      "Epoch 61/100\n",
      "150/150 [==============================] - 0s 613us/step - loss: 0.3351 - accuracy: 0.8488 - val_loss: 0.3237 - val_accuracy: 0.8901\n",
      "Epoch 62/100\n",
      "150/150 [==============================] - 0s 605us/step - loss: 0.3202 - accuracy: 0.8599 - val_loss: 0.3612 - val_accuracy: 0.8928\n",
      "Epoch 63/100\n",
      "150/150 [==============================] - 0s 600us/step - loss: 0.3461 - accuracy: 0.8438 - val_loss: 0.3953 - val_accuracy: 0.8457\n",
      "Epoch 64/100\n",
      "150/150 [==============================] - 0s 614us/step - loss: 0.3468 - accuracy: 0.8415 - val_loss: 0.3186 - val_accuracy: 0.8924\n",
      "Epoch 65/100\n",
      "150/150 [==============================] - 0s 605us/step - loss: 0.3718 - accuracy: 0.8549 - val_loss: 0.3654 - val_accuracy: 0.8758\n",
      "Epoch 66/100\n",
      "150/150 [==============================] - 0s 610us/step - loss: 0.3290 - accuracy: 0.8618 - val_loss: 0.3475 - val_accuracy: 0.8941\n",
      "Epoch 67/100\n",
      "150/150 [==============================] - 0s 614us/step - loss: 0.3156 - accuracy: 0.8582 - val_loss: 0.3381 - val_accuracy: 0.8860\n",
      "Epoch 68/100\n",
      "150/150 [==============================] - 0s 605us/step - loss: 0.3219 - accuracy: 0.8503 - val_loss: 0.3437 - val_accuracy: 0.8991\n",
      "Epoch 69/100\n",
      "150/150 [==============================] - 0s 598us/step - loss: 0.3005 - accuracy: 0.8682 - val_loss: 0.3150 - val_accuracy: 0.8987\n",
      "Epoch 70/100\n",
      "150/150 [==============================] - 0s 610us/step - loss: 0.3061 - accuracy: 0.8720 - val_loss: 0.3462 - val_accuracy: 0.8895\n",
      "Epoch 71/100\n",
      "150/150 [==============================] - 0s 609us/step - loss: 0.3195 - accuracy: 0.8674 - val_loss: 0.2933 - val_accuracy: 0.8995\n",
      "Epoch 72/100\n",
      "150/150 [==============================] - 0s 612us/step - loss: 0.3066 - accuracy: 0.8666 - val_loss: 0.3208 - val_accuracy: 0.8812\n",
      "Epoch 73/100\n",
      "150/150 [==============================] - 0s 611us/step - loss: 0.3192 - accuracy: 0.8605 - val_loss: 0.3027 - val_accuracy: 0.8964\n",
      "Epoch 74/100\n",
      "150/150 [==============================] - 0s 608us/step - loss: 0.3111 - accuracy: 0.8643 - val_loss: 0.3542 - val_accuracy: 0.8582\n",
      "Epoch 75/100\n",
      "150/150 [==============================] - 0s 607us/step - loss: 0.3178 - accuracy: 0.8695 - val_loss: 0.3208 - val_accuracy: 0.8962\n",
      "Epoch 76/100\n",
      "150/150 [==============================] - 0s 695us/step - loss: 0.2986 - accuracy: 0.8701 - val_loss: 0.3314 - val_accuracy: 0.8866\n",
      "Epoch 77/100\n",
      "150/150 [==============================] - 0s 613us/step - loss: 0.3033 - accuracy: 0.8666 - val_loss: 0.3163 - val_accuracy: 0.8941\n",
      "Epoch 78/100\n",
      "150/150 [==============================] - 0s 604us/step - loss: 0.3059 - accuracy: 0.8676 - val_loss: 0.3064 - val_accuracy: 0.9058\n",
      "Epoch 79/100\n",
      "150/150 [==============================] - 0s 602us/step - loss: 0.3039 - accuracy: 0.8668 - val_loss: 0.3136 - val_accuracy: 0.9054\n",
      "Epoch 80/100\n",
      "150/150 [==============================] - 0s 609us/step - loss: 0.2955 - accuracy: 0.8705 - val_loss: 0.2931 - val_accuracy: 0.9054\n",
      "Epoch 81/100\n",
      "150/150 [==============================] - 0s 617us/step - loss: 0.2920 - accuracy: 0.8774 - val_loss: 0.3104 - val_accuracy: 0.8958\n",
      "Epoch 82/100\n",
      "150/150 [==============================] - 0s 598us/step - loss: 0.3238 - accuracy: 0.8607 - val_loss: 0.2697 - val_accuracy: 0.9014\n",
      "Epoch 83/100\n",
      "150/150 [==============================] - 0s 608us/step - loss: 0.2821 - accuracy: 0.8839 - val_loss: 0.3326 - val_accuracy: 0.8701\n",
      "Epoch 84/100\n",
      "150/150 [==============================] - 0s 617us/step - loss: 0.2997 - accuracy: 0.8682 - val_loss: 0.2789 - val_accuracy: 0.9074\n",
      "Epoch 85/100\n",
      "150/150 [==============================] - 0s 612us/step - loss: 0.2991 - accuracy: 0.8716 - val_loss: 0.2933 - val_accuracy: 0.9026\n",
      "Epoch 86/100\n",
      "150/150 [==============================] - 0s 610us/step - loss: 0.2986 - accuracy: 0.8791 - val_loss: 0.2955 - val_accuracy: 0.8958\n",
      "Epoch 87/100\n",
      "150/150 [==============================] - 0s 612us/step - loss: 0.3177 - accuracy: 0.8668 - val_loss: 0.2985 - val_accuracy: 0.9024\n",
      "Epoch 88/100\n",
      "150/150 [==============================] - 0s 606us/step - loss: 0.3087 - accuracy: 0.8641 - val_loss: 0.2971 - val_accuracy: 0.9064\n",
      "Epoch 89/100\n",
      "150/150 [==============================] - 0s 610us/step - loss: 0.3037 - accuracy: 0.8666 - val_loss: 0.3419 - val_accuracy: 0.8749\n",
      "Epoch 90/100\n",
      "150/150 [==============================] - 0s 603us/step - loss: 0.3008 - accuracy: 0.8711 - val_loss: 0.2906 - val_accuracy: 0.9049\n",
      "Epoch 91/100\n",
      "150/150 [==============================] - 0s 606us/step - loss: 0.3106 - accuracy: 0.8601 - val_loss: 0.2993 - val_accuracy: 0.9043\n",
      "Epoch 92/100\n",
      "150/150 [==============================] - 0s 619us/step - loss: 0.2853 - accuracy: 0.8805 - val_loss: 0.3085 - val_accuracy: 0.9014\n",
      "Epoch 93/100\n",
      "150/150 [==============================] - 0s 613us/step - loss: 0.2917 - accuracy: 0.8801 - val_loss: 0.2983 - val_accuracy: 0.8916\n",
      "Epoch 94/100\n",
      "150/150 [==============================] - 0s 612us/step - loss: 0.2960 - accuracy: 0.8724 - val_loss: 0.3098 - val_accuracy: 0.9035\n",
      "Epoch 95/100\n",
      "150/150 [==============================] - 0s 611us/step - loss: 0.2963 - accuracy: 0.8688 - val_loss: 0.2691 - val_accuracy: 0.9114\n",
      "Epoch 96/100\n",
      "150/150 [==============================] - 0s 699us/step - loss: 0.3048 - accuracy: 0.8657 - val_loss: 0.3059 - val_accuracy: 0.9029\n",
      "Epoch 97/100\n",
      "150/150 [==============================] - 0s 625us/step - loss: 0.2910 - accuracy: 0.8666 - val_loss: 0.3001 - val_accuracy: 0.8918\n",
      "Epoch 98/100\n",
      "150/150 [==============================] - 0s 610us/step - loss: 0.2985 - accuracy: 0.8695 - val_loss: 0.2964 - val_accuracy: 0.9108\n",
      "Epoch 99/100\n",
      "150/150 [==============================] - 0s 604us/step - loss: 0.3253 - accuracy: 0.8518 - val_loss: 0.2744 - val_accuracy: 0.9056\n",
      "Epoch 100/100\n",
      "150/150 [==============================] - 0s 616us/step - loss: 0.3233 - accuracy: 0.8624 - val_loss: 0.3298 - val_accuracy: 0.9054\n"
     ]
    }
   ],
   "source": [
    "model = initialize_model()\n",
    "\n",
    "es = EarlyStopping(monitor='val_loss', patience=10, restore_best_weights=True)\n",
    "\n",
    "history = model.fit(X_train, y_train, \n",
    "          epochs=100, batch_size=32, \n",
    "          verbose=1, validation_data=(X_test, y_test))"
   ]
  },
  {
   "cell_type": "markdown",
   "id": "05da5e41-ceee-45c4-aada-045851ba0154",
   "metadata": {},
   "source": [
    "#### Testing the model"
   ]
  },
  {
   "cell_type": "code",
   "execution_count": 89,
   "id": "c6d093a4-8a6b-40b1-9937-91847039b05e",
   "metadata": {},
   "outputs": [
    {
     "name": "stdout",
     "output_type": "stream",
     "text": [
      "150/150 [==============================] - 0s 270us/step - loss: 0.3298 - accuracy: 0.9054\n"
     ]
    }
   ],
   "source": [
    "test_accuracy = model.evaluate(X_test, y_test)[1]"
   ]
  },
  {
   "cell_type": "markdown",
   "id": "604a5b75-b77a-4982-a8da-34bbddf3569a",
   "metadata": {},
   "source": [
    "#### Save the model"
   ]
  },
  {
   "cell_type": "code",
   "execution_count": 91,
   "id": "fd57b801-818a-4934-bc05-a259c1e87993",
   "metadata": {},
   "outputs": [],
   "source": [
    "from tensorflow.keras.models import load_model, save_model\n",
    "\n",
    "model.save(f'../saved_models/model_{int(round(test_accuracy, 2) * 100)}.h5')"
   ]
  }
 ],
 "metadata": {
  "kernelspec": {
   "display_name": "Python 3 (ipykernel)",
   "language": "python",
   "name": "python3"
  },
  "language_info": {
   "codemirror_mode": {
    "name": "ipython",
    "version": 3
   },
   "file_extension": ".py",
   "mimetype": "text/x-python",
   "name": "python",
   "nbconvert_exporter": "python",
   "pygments_lexer": "ipython3",
   "version": "3.10.6"
  }
 },
 "nbformat": 4,
 "nbformat_minor": 5
}
